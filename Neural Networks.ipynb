{
 "cells": [
  {
   "cell_type": "markdown",
   "metadata": {},
   "source": [
    "## Neural Networks"
   ]
  },
  {
   "cell_type": "markdown",
   "metadata": {},
   "source": [
    "В цій практичній роботі ми спробуємо реалізувати нейронну мережу з двох шарів (прихований і вихідний). Запропонований підхід стане заготовкою для реалізації наступних оптимізацій: MBGD, ADAM та регуляризації.\n",
    "\n",
    "Сьогодні ж вам пропонується додати до цього класу:\n",
    "- підтримку довільної кількості шарів та нейронів в них (наприклад, передавати їх параметром в конструктор, як це робиться в MLPClassifier за допомогою hidden_layer_sizes)\n",
    "- передбачити можливість ранньої зупинки ітераційного процесу, якщо значення штрафної функції не покращуватиметься протягом певної кількості ітерацій. Наприклад, якщо протягом  𝑘  ітерацій штрафна функція за модулем не стане меншою, ніж на поточному кроці."
   ]
  },
  {
   "cell_type": "code",
   "execution_count": 1,
   "metadata": {},
   "outputs": [],
   "source": [
    "import numpy as np\n",
    "import pandas as pd\n",
    "from sklearn.model_selection import train_test_split\n",
    "from mpl_toolkits.mplot3d import Axes3D\n",
    "import matplotlib.pyplot as plt\n",
    "\n",
    "from matplotlib.colors import ListedColormap\n",
    "cm_bright = ListedColormap(['#FF0000', '#0000FF'])\n",
    "cm_bright_test = ListedColormap(['#FFA833','#33E0FF'])\n",
    "%matplotlib inline\n",
    "from sklearn.metrics import accuracy_score\n",
    "\n",
    "import sklearn.linear_model"
   ]
  },
  {
   "cell_type": "code",
   "execution_count": 2,
   "metadata": {},
   "outputs": [],
   "source": [
    "def plot_surface(cls, x_1, x_2, ax=None, threshold=0.5, contourf=False):\n",
    "    xx1, xx2 = np.meshgrid(np.linspace(x_1.min(), x_1.max(), 100), \n",
    "                           np.linspace(x_2.min(), x_2.max(), 100))\n",
    "\n",
    "    X_pred = np.c_[xx1.ravel(), xx2.ravel()]\n",
    "    pred = cls.predict_proba(X_pred)[:, 0]\n",
    "    Z = pred.reshape((100, 100))\n",
    "    if ax is None:\n",
    "        ax = plt.gca()\n",
    "    ax.contour(xx1, xx2, Z, levels=[threshold], colors='black')\n",
    "    ax.set_xlim((x_1.min(), x_1.max()))\n",
    "    ax.set_ylim((x_2.min(), x_2.max()))"
   ]
  },
  {
   "cell_type": "code",
   "execution_count": 3,
   "metadata": {},
   "outputs": [],
   "source": [
    "def plot_data(X, y, color_map=cm_bright):\n",
    "    ax = plt.gca()\n",
    "    ax.scatter(X[:,0], X[:,1], c=(y == 1), cmap=color_map)"
   ]
  },
  {
   "cell_type": "code",
   "execution_count": 4,
   "metadata": {},
   "outputs": [],
   "source": [
    "class NeuralNet:\n",
    "    \"\"\"\n",
    "    NN for binary classification\n",
    "    Attributes:\n",
    "    ...\n",
    "    \"\"\"\n",
    "    \n",
    "    def __init__(self, neurons_in_layers, normalize = True, learning_rate = 0.01, num_iter = 30000):\n",
    "        self.neurons_in_layers = neurons_in_layers\n",
    "        self.learning_rate = learning_rate\n",
    "        self.num_iter = num_iter\n",
    "        self.normalize = normalize\n",
    "    \n",
    "    def __normalize(self, X, mean = None, std = None):\n",
    "        n = X.shape[0]\n",
    "        m = mean\n",
    "        if m is None:\n",
    "            m = np.mean(X, axis=1).reshape((n, 1))\n",
    "        s = std\n",
    "        if s is None:\n",
    "            s = np.std(X, axis=1).reshape((n, 1))\n",
    "        X_new = (X - m) / s**2\n",
    "        return X_new, m, s\n",
    "\n",
    "    def __sigmoid(self, Z):\n",
    "        return 1 / (1 + np.exp(-Z))\n",
    "    \n",
    "    def __initialize_parameters(self):\n",
    "        neurons_in_layers = self.neurons_in_layers\n",
    "        parameters = {}\n",
    "        for i in range(1, len(neurons_in_layers)):\n",
    "            parameters[\"W\" + str(i)] = np.random.randn(neurons_in_layers[i], neurons_in_layers[i - 1]) * 0.01\n",
    "            parameters[\"b\" + str(i)] = np.zeros((neurons_in_layers[i], 1)) #\n",
    "        self.parameters = parameters\n",
    "       \n",
    "    def __forward_propagation(self, X):\n",
    "        parameters = self.parameters\n",
    "        caches = []\n",
    "        A = X\n",
    "        L = len(parameters) // 2\n",
    "\n",
    "        for i in range(1, L):\n",
    "            prev_A = A\n",
    "            W = parameters[\"W\"+str(i)]\n",
    "            b = parameters[\"b\"+str(i)]\n",
    "            \n",
    "            Z = np.dot(W, prev_A) + b\n",
    "            linear_cache = (prev_A, W, b)\n",
    "            \n",
    "            A = self.__sigmoid(Z)\n",
    "            activation_cache = Z\n",
    "            \n",
    "            cache = (linear_cache, activation_cache)            \n",
    "            caches.append(cache)   \n",
    "            \n",
    "        W = parameters[\"W\"+str(L)]\n",
    "        b = parameters[\"b\"+str(L)]\n",
    "        \n",
    "        Z = np.dot(W, A) + b\n",
    "        linear_cache = (A, W, b)\n",
    "            \n",
    "        AL = self.__sigmoid(Z)\n",
    "        activation_cache = Z\n",
    "            \n",
    "        cache = (linear_cache, activation_cache)            \n",
    "        caches.append(cache)  \n",
    "        \n",
    "        assert(AL.shape == (1,X.shape[1]))\n",
    "        return AL, caches\n",
    "    \n",
    "    def compute_cost(self, A, Y):\n",
    "        m = Y.shape[1]\n",
    "        res = Y * np.log(A) + (1 - Y) * np.log(1 - A)\n",
    "        J = -(1 / m) * np.sum(res)\n",
    "        return J\n",
    "        \n",
    "    def __backward_propagation(self, X, Y, caches):\n",
    "        grads = {}\n",
    "        AL = X\n",
    "        L = len(caches)\n",
    "        m = AL.shape[1]\n",
    "        Y = Y.reshape(AL.shape)\n",
    "        dAL = -(np.divide(Y, AL) - np.divide(1 - Y, 1 - AL))\n",
    "        \n",
    "        linear_cache, activation_cache = caches[L-1]\n",
    "        Z = activation_cache\n",
    "        s = self.__sigmoid(Z)\n",
    "        dZ = dAL * s * (1 - s)\n",
    "        prev_A, W, b = linear_cache\n",
    "        m = prev_A.shape[1]\n",
    "        dW = 1 / m * np.dot(dZ, prev_A.T)\n",
    "        db = 1 / m * np.sum(dZ, axis=1, keepdims=True)\n",
    "        prev_dA = np.dot(W.T, dZ)\n",
    "        \n",
    "        grads[\"dA\" + str(L-1)] = prev_dA\n",
    "        grads[\"dW\" + str(L)] = dW\n",
    "        grads[\"db\" + str(L)] = db\n",
    "        \n",
    "        for i in reversed(range(L-1)):\n",
    "            linear_cache, activation_cache = caches[i]\n",
    "            Z = activation_cache\n",
    "            s = self.__sigmoid(Z)\n",
    "            dZ = prev_dA * s * (1 - s)\n",
    "            prev_A, W, b = linear_cache\n",
    "            m = prev_A.shape[1]\n",
    "            dW = 1 / m * np.dot(dZ, prev_A.T)\n",
    "            db = 1 / m * np.sum(dZ, axis=1, keepdims=True)\n",
    "            prev_dA = np.dot(W.T, dZ)\n",
    "            \n",
    "            grads[\"dA\" + str(i)] = prev_dA\n",
    "            grads[\"dW\" + str(i + 1)] = dW\n",
    "            grads[\"db\" + str(i + 1)] = db\n",
    "        return grads\n",
    "    \n",
    "    def __update_parameters(self, grads):\n",
    "        parameters = self.parameters\n",
    "        learning_rate = self.learning_rate\n",
    "\n",
    "        for i in range(len(parameters) // 2):\n",
    "            parameters[\"W\" + str(i+1)] = parameters[\"W\" + str(i+1)] - learning_rate * grads[\"dW\" + str(i+1)]\n",
    "            parameters[\"b\" + str(i+1)] = parameters[\"b\" + str(i+1)] - learning_rate * grads[\"db\" + str(i+1)]\n",
    "            \n",
    "        self.parameters = parameters\n",
    "        \n",
    "    def fit(self, X_vert, Y_vert, print_cost = True):\n",
    "        \n",
    "        X, Y = X_vert.T, Y_vert.T\n",
    "        \n",
    "        if self.normalize:\n",
    "            X, self.__mean, self.__std = self.__normalize(X)\n",
    "        \n",
    "        costs = []\n",
    "        \n",
    "        self.__initialize_parameters()\n",
    "\n",
    "        for i in range(0, self.num_iter):\n",
    "            A, caches = self.__forward_propagation(X)\n",
    "\n",
    "            cost = self.compute_cost(A, Y)\n",
    "\n",
    "            grads = self.__backward_propagation(A, Y, caches)\n",
    "\n",
    "            self.__update_parameters(grads)\n",
    "\n",
    "            if print_cost and i % 100 == 0:\n",
    "                print(\"{}-th iteration: {}\".format(i, cost))\n",
    "\n",
    "            if i % 100 == 0:\n",
    "                costs.append(cost)\n",
    "\n",
    "        if print_cost:\n",
    "            plt.plot(costs)\n",
    "            plt.ylabel(\"Cost\")\n",
    "            plt.xlabel(\"Iteration, *1000\")\n",
    "            plt.show()\n",
    "    \n",
    "    def predict_proba(self, X_vert):\n",
    "        X = X_vert.T\n",
    "        if self.normalize:\n",
    "            X, _, _ = self.__normalize(X, self.__mean, self.__std)\n",
    "        \n",
    "        probs = self.__forward_propagation(X)[0]\n",
    "        \n",
    "        return np.column_stack((probs.T, 1 - probs.T))\n",
    "    \n",
    "    def predict(self, X_vert):\n",
    "        positive_probs = self.predict_proba(X_vert)[:, 0]\n",
    "        return (positive_probs >= 0.5).astype(int)"
   ]
  },
  {
   "cell_type": "code",
   "execution_count": 5,
   "metadata": {},
   "outputs": [],
   "source": [
    "#data_columns = [\"exam1\", \"exam2\"]\n",
    "#target_column = \"submitted\"\n",
    "#df = pd.read_csv(\"sats.csv\")\n",
    "#X, Y = df[data_columns].values, df[target_column].reshape((df.shape[0], 1))\n",
    "#print('Training set: X={}, y={}'.format(X.shape, Y.shape))"
   ]
  },
  {
   "cell_type": "code",
   "execution_count": 8,
   "metadata": {},
   "outputs": [
    {
     "name": "stdout",
     "output_type": "stream",
     "text": [
      "Training set: X=(118, 2), y=(118,)\n"
     ]
    }
   ],
   "source": [
    "data_columns = [\"test1\", \"test2\"]\n",
    "target_column = \"passed\"\n",
    "df = pd.read_csv(\"tests.csv\")\n",
    "X, Y = df[data_columns].values, df[target_column]\n",
    "print('Training set: X={}, y={}'.format(X.shape, Y.shape))"
   ]
  },
  {
   "cell_type": "code",
   "execution_count": 9,
   "metadata": {},
   "outputs": [
    {
     "data": {
      "image/png": "[encoded data removed]",
      "text/plain": [
       "<Figure size 432x288 with 1 Axes>"
      ]
     },
     "metadata": {
      "needs_background": "light"
     },
     "output_type": "display_data"
    }
   ],
   "source": [
    "plot_data(X, Y)"
   ]
  },
  {
   "cell_type": "code",
   "execution_count": 10,
   "metadata": {},
   "outputs": [],
   "source": [
    "cls = NeuralNet(neurons_in_layers = [2, 15, 1], normalize = True, learning_rate = 0.5, num_iter = 4000)"
   ]
  },
  {
   "cell_type": "code",
   "execution_count": 11,
   "metadata": {},
   "outputs": [
    {
     "name": "stdout",
     "output_type": "stream",
     "text": [
      "0-th iteration: 0.6941222933278431\n",
      "100-th iteration: 0.6894644289345008\n",
      "200-th iteration: 0.6893661503840935\n",
      "300-th iteration: 0.6891665481919185\n",
      "400-th iteration: 0.6888292272658677\n",
      "500-th iteration: 0.6884756464890688\n",
      "600-th iteration: 0.6882724968204395\n",
      "700-th iteration: 0.6881810293224405\n",
      "800-th iteration: 0.6881079788972497\n",
      "900-th iteration: 0.6879961446987701\n",
      "1000-th iteration: 0.6877626874011595\n",
      "1100-th iteration: 0.6871621058025918\n",
      "1200-th iteration: 0.6854393367045194\n",
      "1300-th iteration: 0.6810599251410644\n",
      "1400-th iteration: 0.6725131265388672\n",
      "1500-th iteration: 0.6566464107829\n",
      "1600-th iteration: 0.6312505071716894\n",
      "1700-th iteration: 0.6075960106452875\n",
      "1800-th iteration: 0.5925276972797308\n",
      "1900-th iteration: 0.5842576425561606\n",
      "2000-th iteration: 0.5797292797850655\n",
      "2100-th iteration: 0.5760470253024683\n",
      "2200-th iteration: 0.5667417125980485\n",
      "2300-th iteration: 0.5402319825311762\n",
      "2400-th iteration: 0.5021058472354859\n",
      "2500-th iteration: 0.46979279175689015\n",
      "2600-th iteration: 0.44644911724263553\n",
      "2700-th iteration: 0.4295126063382302\n",
      "2800-th iteration: 0.41642816717090236\n",
      "2900-th iteration: 0.40475464031603897\n",
      "3000-th iteration: 0.3941290827892584\n",
      "3100-th iteration: 0.3856253246682439\n",
      "3200-th iteration: 0.3788187534669803\n",
      "3300-th iteration: 0.3732402856921204\n",
      "3400-th iteration: 0.36853304126857994\n",
      "3500-th iteration: 0.36441580473442525\n",
      "3600-th iteration: 0.36067673349633517\n",
      "3700-th iteration: 0.3571890105626616\n",
      "3800-th iteration: 0.3539137455155417\n",
      "3900-th iteration: 0.3508575159516205\n"
     ]
    },
    {
     "data": {
      "image/png": "[encoded data removed]",
      "text/plain": [
       "<Figure size 432x288 with 1 Axes>"
      ]
     },
     "metadata": {
      "needs_background": "light"
     },
     "output_type": "display_data"
    }
   ],
   "source": [
    "X_train, X_test, Y_train, Y_test = train_test_split(X, Y.values.reshape((Y.shape[0], 1)), test_size = 0.2, random_state=10)\n",
    "\n",
    "cls.fit(X_train, Y_train)"
   ]
  },
  {
   "cell_type": "code",
   "execution_count": 12,
   "metadata": {},
   "outputs": [
    {
     "name": "stdout",
     "output_type": "stream",
     "text": [
      "{'W1': array([[-8.97252849e-01,  1.93926778e-02],\n",
      "       [ 6.31752190e-01, -8.10368849e-01],\n",
      "       [-7.29716997e-01,  8.43394613e-01],\n",
      "       [-2.24137916e-01, -1.29860650e+00],\n",
      "       [ 5.99624613e-02,  1.93274584e+00],\n",
      "       [-1.09251955e+00, -2.98218296e-02],\n",
      "       [-1.14225322e+00, -1.21124339e-01],\n",
      "       [-1.00908983e+00, -1.02242280e-03],\n",
      "       [ 2.73621216e-01, -1.70939238e+00],\n",
      "       [ 5.99430261e-01, -1.01046126e+00],\n",
      "       [-1.05157656e+00, -3.67861184e-03],\n",
      "       [-1.00364770e+00,  1.91261166e-02],\n",
      "       [-2.16390359e-01, -1.26603991e+00],\n",
      "       [-2.57766217e+00, -2.03550154e+00],\n",
      "       [-1.13300828e+00, -1.14942205e-01]]), 'b1': array([[-0.97131993],\n",
      "       [-2.25738165],\n",
      "       [-2.87229767],\n",
      "       [-2.47546737],\n",
      "       [-4.04734366],\n",
      "       [-2.22328411],\n",
      "       [-1.6818094 ],\n",
      "       [-1.82302164],\n",
      "       [-1.00153402],\n",
      "       [-2.01586093],\n",
      "       [-2.1192483 ],\n",
      "       [-1.24723256],\n",
      "       [-2.34820427],\n",
      "       [ 4.57502121],\n",
      "       [-1.7204487 ]]), 'W2': array([[-0.60623695, -2.72902912, -2.8957369 , -3.14699405, -4.27124025,\n",
      "        -2.34181004, -1.66236176, -1.77188709, -1.51013827, -2.55021833,\n",
      "        -2.17403667, -1.0485051 , -2.9723863 ,  9.26533666, -1.70591329]]), 'b2': array([[1.63888783]])}\n"
     ]
    }
   ],
   "source": [
    "print(cls.parameters)"
   ]
  },
  {
   "cell_type": "code",
   "execution_count": 13,
   "metadata": {},
   "outputs": [
    {
     "data": {
      "text/plain": [
       "array([[8.62723637e-01, 1.37276363e-01],\n",
       "       [2.13045262e-01, 7.86954738e-01],\n",
       "       [9.99449404e-01, 5.50595993e-04],\n",
       "       [4.03351305e-01, 5.96648695e-01],\n",
       "       [1.14595657e-01, 8.85404343e-01],\n",
       "       [9.81787677e-01, 1.82123228e-02],\n",
       "       [1.47904144e-01, 8.52095856e-01],\n",
       "       [9.97183051e-01, 2.81694936e-03],\n",
       "       [9.92160903e-01, 7.83909663e-03],\n",
       "       [1.30288121e-01, 8.69711879e-01],\n",
       "       [9.86018150e-01, 1.39818497e-02],\n",
       "       [7.43298004e-01, 2.56701996e-01],\n",
       "       [4.43481842e-01, 5.56518158e-01],\n",
       "       [2.23475284e-01, 7.76524716e-01],\n",
       "       [9.92569445e-01, 7.43055518e-03],\n",
       "       [9.95671746e-01, 4.32825421e-03],\n",
       "       [4.48347861e-01, 5.51652139e-01],\n",
       "       [2.29722147e-01, 7.70277853e-01],\n",
       "       [3.75748366e-01, 6.24251634e-01],\n",
       "       [4.85825465e-02, 9.51417454e-01],\n",
       "       [9.01109786e-01, 9.88902136e-02],\n",
       "       [3.86339057e-02, 9.61366094e-01],\n",
       "       [3.83726844e-01, 6.16273156e-01],\n",
       "       [9.84009167e-01, 1.59908329e-02],\n",
       "       [1.19088209e-01, 8.80911791e-01],\n",
       "       [5.33459885e-01, 4.66540115e-01],\n",
       "       [9.82266906e-01, 1.77330938e-02],\n",
       "       [8.88969597e-02, 9.11103040e-01],\n",
       "       [8.61832380e-01, 1.38167620e-01],\n",
       "       [8.53643690e-01, 1.46356310e-01],\n",
       "       [1.63333589e-01, 8.36666411e-01],\n",
       "       [6.87861068e-01, 3.12138932e-01],\n",
       "       [1.32108968e-02, 9.86789103e-01],\n",
       "       [6.91366012e-02, 9.30863399e-01],\n",
       "       [9.38355714e-01, 6.16442860e-02],\n",
       "       [3.78023491e-01, 6.21976509e-01],\n",
       "       [4.39456908e-01, 5.60543092e-01],\n",
       "       [3.93487078e-01, 6.06512922e-01],\n",
       "       [5.52132541e-01, 4.47867459e-01],\n",
       "       [9.98129282e-01, 1.87071810e-03],\n",
       "       [8.69584807e-02, 9.13041519e-01],\n",
       "       [6.23344377e-01, 3.76655623e-01],\n",
       "       [4.34567788e-01, 5.65432212e-01],\n",
       "       [7.55687904e-02, 9.24431210e-01],\n",
       "       [8.84569242e-01, 1.15430758e-01],\n",
       "       [6.13594349e-01, 3.86405651e-01],\n",
       "       [9.81079879e-01, 1.89201211e-02],\n",
       "       [6.25156222e-01, 3.74843778e-01],\n",
       "       [2.44689148e-01, 7.55310852e-01],\n",
       "       [3.20008472e-02, 9.67999153e-01],\n",
       "       [9.92650747e-01, 7.34925277e-03],\n",
       "       [4.10879858e-02, 9.58912014e-01],\n",
       "       [8.18237851e-01, 1.81762149e-01],\n",
       "       [7.79937501e-01, 2.20062499e-01],\n",
       "       [4.47546263e-01, 5.52453737e-01],\n",
       "       [4.17136135e-02, 9.58286387e-01],\n",
       "       [5.34561035e-01, 4.65438965e-01],\n",
       "       [5.90752873e-01, 4.09247127e-01],\n",
       "       [9.62398911e-01, 3.76010893e-02],\n",
       "       [3.27494433e-01, 6.72505567e-01],\n",
       "       [6.10286197e-01, 3.89713803e-01],\n",
       "       [9.90644590e-01, 9.35540962e-03],\n",
       "       [2.70812170e-01, 7.29187830e-01],\n",
       "       [8.31151041e-01, 1.68848959e-01],\n",
       "       [9.43324671e-01, 5.66753286e-02],\n",
       "       [9.44426670e-02, 9.05557333e-01],\n",
       "       [2.25073572e-01, 7.74926428e-01],\n",
       "       [8.99659941e-01, 1.00340059e-01],\n",
       "       [6.75464941e-01, 3.24535059e-01],\n",
       "       [1.25362481e-01, 8.74637519e-01],\n",
       "       [1.77834906e-01, 8.22165094e-01],\n",
       "       [6.15126718e-01, 3.84873282e-01],\n",
       "       [9.82381404e-01, 1.76185963e-02],\n",
       "       [9.34845493e-01, 6.51545067e-02],\n",
       "       [1.21222055e-02, 9.87877794e-01],\n",
       "       [7.55100822e-01, 2.44899178e-01],\n",
       "       [4.36653602e-01, 5.63346398e-01],\n",
       "       [3.24913320e-01, 6.75086680e-01],\n",
       "       [2.24785483e-01, 7.75214517e-01],\n",
       "       [5.96104756e-01, 4.03895244e-01],\n",
       "       [3.68815532e-01, 6.31184468e-01],\n",
       "       [4.43479263e-02, 9.55652074e-01],\n",
       "       [6.60702171e-01, 3.39297829e-01],\n",
       "       [8.26017858e-01, 1.73982142e-01],\n",
       "       [7.36226978e-01, 2.63773022e-01],\n",
       "       [8.62314259e-01, 1.37685741e-01],\n",
       "       [2.87862368e-02, 9.71213763e-01],\n",
       "       [3.16915294e-02, 9.68308471e-01],\n",
       "       [4.65245626e-01, 5.34754374e-01],\n",
       "       [9.91448658e-01, 8.55134161e-03],\n",
       "       [9.71299542e-01, 2.87004576e-02],\n",
       "       [3.14576467e-01, 6.85423533e-01],\n",
       "       [9.91545162e-01, 8.45483810e-03],\n",
       "       [9.67560546e-01, 3.24394542e-02]])"
      ]
     },
     "execution_count": 13,
     "metadata": {},
     "output_type": "execute_result"
    }
   ],
   "source": [
    "Y_prob = cls.predict_proba(X_train)\n",
    "Y_prob"
   ]
  },
  {
   "cell_type": "code",
   "execution_count": 14,
   "metadata": {},
   "outputs": [
    {
     "data": {
      "text/plain": [
       "array([1, 0, 1, 0, 0, 1, 0, 1, 1, 0, 1, 1, 0, 0, 1, 1, 0, 0, 0, 0, 1, 0,\n",
       "       0, 1, 0, 1, 1, 0, 1, 1, 0, 1, 0, 0, 1, 0, 0, 0, 1, 1, 0, 1, 0, 0,\n",
       "       1, 1, 1, 1, 0, 0, 1, 0, 1, 1, 0, 0, 1, 1, 1, 0, 1, 1, 0, 1, 1, 0,\n",
       "       0, 1, 1, 0, 0, 1, 1, 1, 0, 1, 0, 0, 0, 1, 0, 0, 1, 1, 1, 1, 0, 0,\n",
       "       0, 1, 1, 0, 1, 1])"
      ]
     },
     "execution_count": 14,
     "metadata": {},
     "output_type": "execute_result"
    }
   ],
   "source": [
    "Y_train_hat = cls.predict(X_train)\n",
    "Y_train_hat"
   ]
  },
  {
   "cell_type": "code",
   "execution_count": 15,
   "metadata": {},
   "outputs": [
    {
     "data": {
      "text/plain": [
       "0.851063829787234"
      ]
     },
     "execution_count": 15,
     "metadata": {},
     "output_type": "execute_result"
    }
   ],
   "source": [
    "accuracy_score(Y_train, Y_train_hat)"
   ]
  },
  {
   "cell_type": "code",
   "execution_count": 16,
   "metadata": {},
   "outputs": [
    {
     "data": {
      "text/plain": [
       "array([1, 0, 0, 1, 0, 1, 0, 1, 0, 0, 0, 1, 0, 0, 1, 1, 1, 1, 0, 0, 1, 1,\n",
       "       0, 0])"
      ]
     },
     "execution_count": 16,
     "metadata": {},
     "output_type": "execute_result"
    }
   ],
   "source": [
    "Y_test_hat = cls.predict(X_test)\n",
    "Y_test_hat"
   ]
  },
  {
   "cell_type": "code",
   "execution_count": 17,
   "metadata": {},
   "outputs": [
    {
     "data": {
      "text/plain": [
       "0.8333333333333334"
      ]
     },
     "execution_count": 17,
     "metadata": {},
     "output_type": "execute_result"
    }
   ],
   "source": [
    "accuracy_score(Y_test, Y_test_hat)"
   ]
  },
  {
   "cell_type": "code",
   "execution_count": 18,
   "metadata": {},
   "outputs": [
    {
     "data": {
      "image/png": "[encoded data removed]",
      "text/plain": [
       "<Figure size 432x288 with 1 Axes>"
      ]
     },
     "metadata": {
      "needs_background": "light"
     },
     "output_type": "display_data"
    }
   ],
   "source": [
    "plot_data(X_train, Y_train.reshape((Y_train.shape[0],)))#_train\n",
    "plot_data(X_test, Y_test.reshape((Y_test.shape[0],)), color_map = cm_bright_test)\n",
    "\n",
    "plot_surface(cls, X[:, 0], X[:, 1])"
   ]
  },
  {
   "cell_type": "markdown",
   "metadata": {},
   "source": [
    "Зверніть увагу на границю прийняття рішення. Модель старається побудувати складну криву, що може свідчити про її перетренування. Порівняйте отримані результати з класом з sklearn. Спробуйте додати нові шари для нашого класу та порівняти результати тоді. Поекспериментуйте з гіперпараметрами для обох класів."
   ]
  },
  {
   "cell_type": "code",
   "execution_count": 19,
   "metadata": {},
   "outputs": [],
   "source": [
    "from sklearn.neural_network import MLPClassifier\n",
    "clf = MLPClassifier(hidden_layer_sizes = (20,), max_iter = 10000, activation = 'relu', solver = 'sgd', learning_rate_init = 0.01, learning_rate = 'constant')"
   ]
  },
  {
   "cell_type": "code",
   "execution_count": 20,
   "metadata": {},
   "outputs": [
    {
     "data": {
      "text/plain": [
       "MLPClassifier(activation='relu', alpha=0.0001, batch_size='auto', beta_1=0.9,\n",
       "              beta_2=0.999, early_stopping=False, epsilon=1e-08,\n",
       "              hidden_layer_sizes=(20,), learning_rate='constant',\n",
       "              learning_rate_init=0.01, max_fun=15000, max_iter=10000,\n",
       "              momentum=0.9, n_iter_no_change=10, nesterovs_momentum=True,\n",
       "              power_t=0.5, random_state=None, shuffle=True, solver='sgd',\n",
       "              tol=0.0001, validation_fraction=0.1, verbose=False,\n",
       "              warm_start=False)"
      ]
     },
     "execution_count": 20,
     "metadata": {},
     "output_type": "execute_result"
    }
   ],
   "source": [
    "clf.fit(X, Y)"
   ]
  },
  {
   "cell_type": "code",
   "execution_count": 21,
   "metadata": {},
   "outputs": [
    {
     "data": {
      "image/png": "[encoded data removed]",
      "text/plain": [
       "<Figure size 432x288 with 1 Axes>"
      ]
     },
     "metadata": {
      "needs_background": "light"
     },
     "output_type": "display_data"
    }
   ],
   "source": [
    "plot_data(X, Y)\n",
    "plot_surface(clf, X[:, 0], X[:, 1])"
   ]
  },
  {
   "cell_type": "code",
   "execution_count": 22,
   "metadata": {},
   "outputs": [
    {
     "data": {
      "text/plain": [
       "0.8305084745762712"
      ]
     },
     "execution_count": 22,
     "metadata": {},
     "output_type": "execute_result"
    }
   ],
   "source": [
    "accuracy_score(Y, clf.predict(X))"
   ]
  }
 ],
 "metadata": {
  "kernelspec": {
   "display_name": "Python 3",
   "language": "python",
   "name": "python3"
  },
  "language_info": {
   "codemirror_mode": {
    "name": "ipython",
    "version": 3
   },
   "file_extension": ".py",
   "mimetype": "text/x-python",
   "name": "python",
   "nbconvert_exporter": "python",
   "pygments_lexer": "ipython3",
   "version": "3.7.0"
  }
 },
 "nbformat": 4,
 "nbformat_minor": 4
}
