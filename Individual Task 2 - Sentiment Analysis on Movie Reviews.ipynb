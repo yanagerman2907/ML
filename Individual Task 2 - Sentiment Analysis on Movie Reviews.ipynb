{
 "cells": [
  {
   "cell_type": "markdown",
   "metadata": {},
   "source": [
    "# Sentiment Analysis on Movie Reviews\n"
   ]
  },
  {
   "cell_type": "markdown",
   "metadata": {},
   "source": [
    "### Individual Task 2. Yana Herman. Binary Logistic Regression"
   ]
  },
  {
   "cell_type": "code",
   "execution_count": 1,
   "metadata": {},
   "outputs": [],
   "source": [
    "import os\n",
    "import string\n",
    "import seaborn as sns\n",
    "import numpy as np\n",
    "import pandas as pd\n",
    "import matplotlib.pyplot as plt\n",
    "%matplotlib inline\n",
    "\n",
    "import sklearn\n",
    "from sklearn.model_selection import train_test_split\n",
    "from sklearn.linear_model import LogisticRegression\n",
    "from sklearn.metrics import accuracy_score, confusion_matrix, recall_score, precision_score\n",
    "\n",
    "import nltk\n",
    "\n",
    "import unicodedata, re\n",
    "import warnings"
   ]
  },
  {
   "cell_type": "markdown",
   "metadata": {},
   "source": [
    "### 1. Preparation & Data analysis"
   ]
  },
  {
   "cell_type": "code",
   "execution_count": 2,
   "metadata": {},
   "outputs": [],
   "source": [
    "train = pd.read_csv('train.tsv', '\\t')\n",
    "test = pd.read_csv('test.tsv', '\\t')"
   ]
  },
  {
   "cell_type": "markdown",
   "metadata": {},
   "source": [
    "- train.tsv contains the phrases and their associated sentiment labels. SentenceId helps to track which phrases belong to a single sentence.\n",
    "- test.tsv contains just phrases. You must assign a sentiment label to each phrase."
   ]
  },
  {
   "cell_type": "code",
   "execution_count": 3,
   "metadata": {},
   "outputs": [
    {
     "name": "stdout",
     "output_type": "stream",
     "text": [
      "Train : (156060, 4)\n",
      "Test: (66292, 3)\n"
     ]
    }
   ],
   "source": [
    "#dataset shapes\n",
    "print(\"Train :\",train.shape)\n",
    "print(\"Test:\",test.shape)"
   ]
  },
  {
   "cell_type": "markdown",
   "metadata": {},
   "source": [
    "#### Checking for NULL or NA"
   ]
  },
  {
   "cell_type": "code",
   "execution_count": 4,
   "metadata": {},
   "outputs": [
    {
     "data": {
      "text/plain": [
       "[]"
      ]
     },
     "execution_count": 4,
     "metadata": {},
     "output_type": "execute_result"
    }
   ],
   "source": [
    "train.columns[train.isna().any()].tolist()"
   ]
  },
  {
   "cell_type": "code",
   "execution_count": 5,
   "metadata": {},
   "outputs": [
    {
     "data": {
      "text/plain": [
       "[]"
      ]
     },
     "execution_count": 5,
     "metadata": {},
     "output_type": "execute_result"
    }
   ],
   "source": [
    "test.columns[test.isna().any()].tolist()"
   ]
  },
  {
   "cell_type": "markdown",
   "metadata": {},
   "source": [
    "#### Sentiment labels"
   ]
  },
  {
   "cell_type": "code",
   "execution_count": 6,
   "metadata": {},
   "outputs": [
    {
     "data": {
      "text/html": [
       "<div>\n",
       "<style scoped>\n",
       "    .dataframe tbody tr th:only-of-type {\n",
       "        vertical-align: middle;\n",
       "    }\n",
       "\n",
       "    .dataframe tbody tr th {\n",
       "        vertical-align: top;\n",
       "    }\n",
       "\n",
       "    .dataframe thead th {\n",
       "        text-align: right;\n",
       "    }\n",
       "</style>\n",
       "<table border=\"1\" class=\"dataframe\">\n",
       "  <thead>\n",
       "    <tr style=\"text-align: right;\">\n",
       "      <th></th>\n",
       "      <th>PhraseId</th>\n",
       "      <th>SentenceId</th>\n",
       "      <th>Phrase</th>\n",
       "      <th>Sentiment</th>\n",
       "    </tr>\n",
       "  </thead>\n",
       "  <tbody>\n",
       "    <tr>\n",
       "      <th>0</th>\n",
       "      <td>1</td>\n",
       "      <td>1</td>\n",
       "      <td>A series of escapades demonstrating the adage ...</td>\n",
       "      <td>1</td>\n",
       "    </tr>\n",
       "    <tr>\n",
       "      <th>1</th>\n",
       "      <td>2</td>\n",
       "      <td>1</td>\n",
       "      <td>A series of escapades demonstrating the adage ...</td>\n",
       "      <td>2</td>\n",
       "    </tr>\n",
       "    <tr>\n",
       "      <th>2</th>\n",
       "      <td>3</td>\n",
       "      <td>1</td>\n",
       "      <td>A series</td>\n",
       "      <td>2</td>\n",
       "    </tr>\n",
       "    <tr>\n",
       "      <th>3</th>\n",
       "      <td>4</td>\n",
       "      <td>1</td>\n",
       "      <td>A</td>\n",
       "      <td>2</td>\n",
       "    </tr>\n",
       "    <tr>\n",
       "      <th>4</th>\n",
       "      <td>5</td>\n",
       "      <td>1</td>\n",
       "      <td>series</td>\n",
       "      <td>2</td>\n",
       "    </tr>\n",
       "  </tbody>\n",
       "</table>\n",
       "</div>"
      ],
      "text/plain": [
       "   PhraseId  SentenceId                                             Phrase  \\\n",
       "0         1           1  A series of escapades demonstrating the adage ...   \n",
       "1         2           1  A series of escapades demonstrating the adage ...   \n",
       "2         3           1                                           A series   \n",
       "3         4           1                                                  A   \n",
       "4         5           1                                             series   \n",
       "\n",
       "   Sentiment  \n",
       "0          1  \n",
       "1          2  \n",
       "2          2  \n",
       "3          2  \n",
       "4          2  "
      ]
     },
     "execution_count": 6,
     "metadata": {},
     "output_type": "execute_result"
    }
   ],
   "source": [
    "train.head()"
   ]
  },
  {
   "cell_type": "markdown",
   "metadata": {},
   "source": [
    "The sentiment labels are:\n",
    "\n",
    "- 0 - negative\n",
    "- 1 - somewhat negative\n",
    "- 2 - neutral\n",
    "- 3 - somewhat positive\n",
    "- 4 - positive"
   ]
  },
  {
   "cell_type": "code",
   "execution_count": 7,
   "metadata": {},
   "outputs": [
    {
     "data": {
      "text/plain": [
       "'A series of escapades demonstrating the adage that what is good for the goose is also good for the gander , some of which occasionally amuses but none of which amounts to much of a story .'"
      ]
     },
     "execution_count": 7,
     "metadata": {},
     "output_type": "execute_result"
    }
   ],
   "source": [
    "train['Phrase'][0]"
   ]
  },
  {
   "cell_type": "code",
   "execution_count": 8,
   "metadata": {},
   "outputs": [
    {
     "data": {
      "text/html": [
       "<div>\n",
       "<style scoped>\n",
       "    .dataframe tbody tr th:only-of-type {\n",
       "        vertical-align: middle;\n",
       "    }\n",
       "\n",
       "    .dataframe tbody tr th {\n",
       "        vertical-align: top;\n",
       "    }\n",
       "\n",
       "    .dataframe thead th {\n",
       "        text-align: right;\n",
       "    }\n",
       "</style>\n",
       "<table border=\"1\" class=\"dataframe\">\n",
       "  <thead>\n",
       "    <tr style=\"text-align: right;\">\n",
       "      <th></th>\n",
       "      <th>PhraseId</th>\n",
       "      <th>SentenceId</th>\n",
       "      <th>Phrase</th>\n",
       "    </tr>\n",
       "  </thead>\n",
       "  <tbody>\n",
       "    <tr>\n",
       "      <th>0</th>\n",
       "      <td>156061</td>\n",
       "      <td>8545</td>\n",
       "      <td>An intermittently pleasing but mostly routine ...</td>\n",
       "    </tr>\n",
       "    <tr>\n",
       "      <th>1</th>\n",
       "      <td>156062</td>\n",
       "      <td>8545</td>\n",
       "      <td>An intermittently pleasing but mostly routine ...</td>\n",
       "    </tr>\n",
       "    <tr>\n",
       "      <th>2</th>\n",
       "      <td>156063</td>\n",
       "      <td>8545</td>\n",
       "      <td>An</td>\n",
       "    </tr>\n",
       "    <tr>\n",
       "      <th>3</th>\n",
       "      <td>156064</td>\n",
       "      <td>8545</td>\n",
       "      <td>intermittently pleasing but mostly routine effort</td>\n",
       "    </tr>\n",
       "    <tr>\n",
       "      <th>4</th>\n",
       "      <td>156065</td>\n",
       "      <td>8545</td>\n",
       "      <td>intermittently pleasing but mostly routine</td>\n",
       "    </tr>\n",
       "  </tbody>\n",
       "</table>\n",
       "</div>"
      ],
      "text/plain": [
       "   PhraseId  SentenceId                                             Phrase\n",
       "0    156061        8545  An intermittently pleasing but mostly routine ...\n",
       "1    156062        8545  An intermittently pleasing but mostly routine ...\n",
       "2    156063        8545                                                 An\n",
       "3    156064        8545  intermittently pleasing but mostly routine effort\n",
       "4    156065        8545         intermittently pleasing but mostly routine"
      ]
     },
     "execution_count": 8,
     "metadata": {},
     "output_type": "execute_result"
    }
   ],
   "source": [
    "test.head()"
   ]
  },
  {
   "cell_type": "markdown",
   "metadata": {},
   "source": [
    "#### Number of phrases with sentiment labels"
   ]
  },
  {
   "cell_type": "code",
   "execution_count": 9,
   "metadata": {},
   "outputs": [
    {
     "data": {
      "image/png": "[encoded data removed]",
      "text/plain": [
       "<Figure size 864x576 with 1 Axes>"
      ]
     },
     "metadata": {
      "needs_background": "light"
     },
     "output_type": "display_data"
    }
   ],
   "source": [
    "dist = train.groupby([\"Sentiment\"]).size()\n",
    "\n",
    "fig, ax = plt.subplots(figsize=(12,8))\n",
    "sns.barplot( dist.keys(), dist.values, palette=\"rocket\");"
   ]
  },
  {
   "cell_type": "markdown",
   "metadata": {},
   "source": [
    "We will use words to create a feature matrix"
   ]
  },
  {
   "cell_type": "code",
   "execution_count": 10,
   "metadata": {},
   "outputs": [],
   "source": [
    "words = train['Phrase'].apply(nltk.word_tokenize)"
   ]
  },
  {
   "cell_type": "markdown",
   "metadata": {},
   "source": [
    "#### Data normalization"
   ]
  },
  {
   "cell_type": "code",
   "execution_count": 11,
   "metadata": {},
   "outputs": [],
   "source": [
    "# Remove non-ASCII characters\n",
    "def remove_non_ascii(words):\n",
    "    new_words = []\n",
    "    for word in words:\n",
    "        new_word = unicodedata.normalize('NFKD', word).encode('ascii', 'ignore').decode('utf-8', 'ignore')\n",
    "        new_words.append(new_word)\n",
    "    return new_words\n",
    "\n",
    "# All words to lowercase\n",
    "def to_lowercase(words):\n",
    "    new_words = []\n",
    "    for word in words:\n",
    "        new_word = word.lower()\n",
    "        new_words.append(new_word)\n",
    "    return new_words\n",
    "\n",
    "# Remove punctuation\n",
    "def remove_punctuation(words):\n",
    "    new_words = []\n",
    "    for word in words:\n",
    "        new_word = re.sub(r'[^\\w\\s]', '', word)\n",
    "        if new_word != '':\n",
    "            new_words.append(new_word)\n",
    "    return new_words\n",
    "\n",
    "# Remove all numbers\n",
    "def remove_numbers(words):\n",
    "    new_words = []\n",
    "    for word in words:\n",
    "        new_word = re.sub(\"\\d+\", \"\", word)\n",
    "        if new_word != '':\n",
    "            new_words.append(new_word)\n",
    "    return new_words\n",
    "\n",
    "def normalize(words):\n",
    "    words = remove_non_ascii(words)\n",
    "    words = to_lowercase(words)\n",
    "    words = remove_punctuation(words)\n",
    "    words = remove_numbers(words)\n",
    "    return words"
   ]
  },
  {
   "cell_type": "code",
   "execution_count": 12,
   "metadata": {},
   "outputs": [
    {
     "data": {
      "text/plain": [
       "0    [a, series, of, escapades, demonstrating, the,...\n",
       "1    [a, series, of, escapades, demonstrating, the,...\n",
       "2                                          [a, series]\n",
       "3                                                  [a]\n",
       "4                                             [series]\n",
       "Name: Phrase, dtype: object"
      ]
     },
     "execution_count": 12,
     "metadata": {},
     "output_type": "execute_result"
    }
   ],
   "source": [
    "words = words.apply(normalize) \n",
    "words.head()"
   ]
  },
  {
   "cell_type": "markdown",
   "metadata": {},
   "source": [
    "Create a dictionary of unique words:"
   ]
  },
  {
   "cell_type": "code",
   "execution_count": 13,
   "metadata": {
    "scrolled": false
   },
   "outputs": [
    {
     "name": "stdout",
     "output_type": "stream",
     "text": [
      "First 20 values: \n",
      "\n",
      "sam, 1 \n",
      "devastated, 2 \n",
      "everyjokehas, 3 \n",
      "convenient, 4 \n",
      "giveandtake, 5 \n",
      "metropolitan, 6 \n",
      "masculine, 7 \n",
      "repulsive, 8 \n",
      "misfiring, 9 \n",
      "renegadecop, 10 \n",
      "restored, 11 \n",
      "wanted, 12 \n",
      "selfcontrol, 13 \n",
      "undisputed, 14 \n",
      "between, 15 \n",
      "blockbuster, 16 \n",
      "definitive, 17 \n",
      "enigma, 18 \n",
      "coarse, 19 \n",
      "morsels, 20 \n"
     ]
    }
   ],
   "source": [
    "word_set = set()\n",
    "for l in words:\n",
    "    for e in l:\n",
    "        word_set.add(e)\n",
    "        \n",
    "vocabulary = {word: ii for ii, word in enumerate(word_set, 1)}\n",
    "\n",
    "print (\"First 20 values: \\n\")\n",
    "\n",
    "for x in list(vocabulary)[0:20]:\n",
    "    print (\"{}, {} \".format(x,  vocabulary[x]))\n"
   ]
  },
  {
   "cell_type": "markdown",
   "metadata": {},
   "source": [
    "We will need tokens to create the feature matrix. Phrases are encoded according to the dictionary."
   ]
  },
  {
   "cell_type": "code",
   "execution_count": 14,
   "metadata": {},
   "outputs": [
    {
     "data": {
      "text/plain": [
       "0    [1330, 282, 10776, 5716, 9114, 2301, 11666, 10...\n",
       "1    [1330, 282, 10776, 5716, 9114, 2301, 11666, 10...\n",
       "2                                          [1330, 282]\n",
       "3                                               [1330]\n",
       "4                                                [282]\n",
       "Name: Phrase, dtype: object"
      ]
     },
     "execution_count": 14,
     "metadata": {},
     "output_type": "execute_result"
    }
   ],
   "source": [
    "tokens = words.apply(lambda l: [vocabulary[word] for word in l])\n",
    "tokens.head()"
   ]
  },
  {
   "cell_type": "markdown",
   "metadata": {},
   "source": [
    "#### The feature matrix"
   ]
  },
  {
   "cell_type": "code",
   "execution_count": 15,
   "metadata": {},
   "outputs": [
    {
     "name": "stdout",
     "output_type": "stream",
     "text": [
      "48\n",
      "array([[ 1330,   282, 10776, ...,     0,     0,     0],\n",
      "       [ 1330,   282, 10776, ...,     0,     0,     0],\n",
      "       [ 1330,   282,     0, ...,     0,     0,     0],\n",
      "       ...,\n",
      "       [ 6806, 13696,     0, ...,     0,     0,     0],\n",
      "       [ 6806,     0,     0, ...,     0,     0,     0],\n",
      "       [13696,     0,     0, ...,     0,     0,     0]])\n"
     ]
    }
   ],
   "source": [
    "# The longest phrase\n",
    "max_len = tokens.str.len().max()\n",
    "print(max_len)\n",
    "\n",
    "# Make all token arrays equal by adding zeros in the end\n",
    "all_tokens = np.array([t for t in tokens])\n",
    "features = np.zeros((len(all_tokens), max_len), dtype=int)\n",
    "for i, row in enumerate(all_tokens):\n",
    "    features[i, :len(row)] = row\n",
    "\n",
    "from pprint import pprint\n",
    "pprint(features)"
   ]
  },
  {
   "cell_type": "markdown",
   "metadata": {},
   "source": [
    "#### Correlation between features"
   ]
  },
  {
   "cell_type": "markdown",
   "metadata": {},
   "source": [
    "In this case correlation between features is not needed as the features do not influence each other."
   ]
  },
  {
   "cell_type": "markdown",
   "metadata": {},
   "source": [
    "#### Convertion to a binary classification problem."
   ]
  },
  {
   "cell_type": "markdown",
   "metadata": {},
   "source": [
    "- Let 0-1 be negative (0) \n",
    "- Let 2-4 be positive (1)"
   ]
  },
  {
   "cell_type": "code",
   "execution_count": 16,
   "metadata": {},
   "outputs": [
    {
     "data": {
      "text/plain": [
       "0         0\n",
       "1         1\n",
       "2         1\n",
       "3         1\n",
       "4         1\n",
       "         ..\n",
       "156055    1\n",
       "156056    0\n",
       "156057    1\n",
       "156058    1\n",
       "156059    1\n",
       "Name: Sentiment, Length: 156060, dtype: int64"
      ]
     },
     "execution_count": 16,
     "metadata": {},
     "output_type": "execute_result"
    }
   ],
   "source": [
    "target = train[\"Sentiment\"].apply(lambda i: 0 if i < 2 else 1)\n",
    "target"
   ]
  },
  {
   "cell_type": "markdown",
   "metadata": {},
   "source": [
    "### 2. Algorithm selection"
   ]
  },
  {
   "cell_type": "code",
   "execution_count": 17,
   "metadata": {},
   "outputs": [
    {
     "data": {
      "text/plain": [
       "((124848, 48), (124848,), (31212, 48), (31212,))"
      ]
     },
     "execution_count": 17,
     "metadata": {},
     "output_type": "execute_result"
    }
   ],
   "source": [
    "X_train, X_test, Y_train, Y_test = train_test_split(features, target, test_size = 0.2, shuffle = True, stratify = target)\n",
    "X_train.shape, Y_train.shape, X_test.shape, Y_test.shape"
   ]
  },
  {
   "cell_type": "markdown",
   "metadata": {},
   "source": [
    "Hyperparameters:"
   ]
  },
  {
   "cell_type": "code",
   "execution_count": 18,
   "metadata": {},
   "outputs": [],
   "source": [
    "alpha = 0.05\n",
    "max_iters = 1000"
   ]
  },
  {
   "cell_type": "markdown",
   "metadata": {},
   "source": [
    "#### Sklearn classifier"
   ]
  },
  {
   "cell_type": "code",
   "execution_count": 19,
   "metadata": {},
   "outputs": [],
   "source": [
    "warnings.filterwarnings(\"ignore\")\n",
    "\n",
    "clf = LogisticRegression(solver='lbfgs', max_iter=max_iters, tol=1e-10)\n",
    "clf = clf.fit(X_train, Y_train)\n"
   ]
  },
  {
   "cell_type": "code",
   "execution_count": 20,
   "metadata": {},
   "outputs": [],
   "source": [
    "Y_train_pred = clf.predict(X_train)\n",
    "Y_test_pred = clf.predict(X_test)"
   ]
  },
  {
   "cell_type": "markdown",
   "metadata": {},
   "source": [
    "Results evaluation for training data:"
   ]
  },
  {
   "cell_type": "code",
   "execution_count": 21,
   "metadata": {},
   "outputs": [
    {
     "name": "stdout",
     "output_type": "stream",
     "text": [
      "Accuracy: 0.77594\n",
      "\n",
      "Confusion Matrix:\n",
      "Predicted\t0\t1\n",
      "Actual\n",
      "0\t\t811\t26665\n",
      "1\t\t1308\t96064\n",
      "\n",
      "Precision: 0.78273\n",
      "\n",
      "Recall: 0.98657\n"
     ]
    }
   ],
   "source": [
    "# Accuracy\n",
    "acc_scr = accuracy_score(Y_train, Y_train_pred)\n",
    "print(\"Accuracy: {:.5f}\\n\".format(acc_scr))\n",
    "\n",
    "# Confusion Matrix:\n",
    "conf_mtrx = confusion_matrix(Y_train, Y_train_pred)\n",
    "print(\"Confusion Matrix:\\nPredicted\\t0\\t1\\nActual\\n0\\t\\t{}\\t{}\\n1\\t\\t{}\\t{}\".format(conf_mtrx[0][0], conf_mtrx[0][1],conf_mtrx[1][0],conf_mtrx[1][1]))\n",
    "\n",
    "# Precision\n",
    "prec = precision_score(Y_train, Y_train_pred)\n",
    "print(\"\\nPrecision: {:.5f}\".format(prec))\n",
    "\n",
    "# Recall\n",
    "recall = recall_score(Y_train, Y_train_pred)\n",
    "print(\"\\nRecall: {:.5f}\".format(recall))"
   ]
  },
  {
   "cell_type": "markdown",
   "metadata": {},
   "source": [
    "Results evaluation for test data:"
   ]
  },
  {
   "cell_type": "code",
   "execution_count": 22,
   "metadata": {},
   "outputs": [
    {
     "name": "stdout",
     "output_type": "stream",
     "text": [
      "Accuracy: 0.77550\n",
      "\n",
      "Confusion Matrix:\n",
      "Predicted\t0\t1\n",
      "Actual\n",
      "0\t\t203\t6666\n",
      "1\t\t341\t24002\n",
      "\n",
      "Precision: 0.78264\n",
      "\n",
      "Recall: 0.98599\n"
     ]
    }
   ],
   "source": [
    "# Accuracy\n",
    "acc_scr = accuracy_score(Y_test, Y_test_pred)\n",
    "print(\"Accuracy: {:.5f}\\n\".format(acc_scr))\n",
    "\n",
    "# Confusion Matrix:\n",
    "conf_mtrx = confusion_matrix(Y_test, Y_test_pred)\n",
    "print(\"Confusion Matrix:\\nPredicted\\t0\\t1\\nActual\\n0\\t\\t{}\\t{}\\n1\\t\\t{}\\t{}\".format(conf_mtrx[0][0], conf_mtrx[0][1],conf_mtrx[1][0],conf_mtrx[1][1]))\n",
    "\n",
    "# Precision\n",
    "prec = precision_score(Y_test, Y_test_pred)\n",
    "print(\"\\nPrecision: {:.5f}\".format(prec))\n",
    "\n",
    "# Recall\n",
    "recall = recall_score(Y_test, Y_test_pred)\n",
    "print(\"\\nRecall: {:.5f}\".format(recall))"
   ]
  },
  {
   "cell_type": "markdown",
   "metadata": {},
   "source": [
    "#### 2. Custom realization"
   ]
  },
  {
   "cell_type": "code",
   "execution_count": 23,
   "metadata": {},
   "outputs": [],
   "source": [
    "def normalize(X):\n",
    "    mean = np.mean(X)\n",
    "    std = np.std(X)\n",
    "    X_new = (X - mean) / std\n",
    "    return X_new, mean, std"
   ]
  },
  {
   "cell_type": "code",
   "execution_count": 24,
   "metadata": {},
   "outputs": [],
   "source": [
    "def prepare_X(X):\n",
    "    m = X.shape[0]\n",
    "    ones = np.ones((m, 1))\n",
    "    X_new = np.column_stack((ones, X))\n",
    "    return X_new"
   ]
  },
  {
   "cell_type": "code",
   "execution_count": 25,
   "metadata": {},
   "outputs": [],
   "source": [
    "def sigmoid(z):\n",
    "    g = 1 / (1 + np.exp(-z))\n",
    "    return g"
   ]
  },
  {
   "cell_type": "code",
   "execution_count": 26,
   "metadata": {},
   "outputs": [],
   "source": [
    "def h(X, theta):\n",
    "    z = np.dot(X, theta)\n",
    "    return sigmoid(z)"
   ]
  },
  {
   "cell_type": "code",
   "execution_count": 27,
   "metadata": {},
   "outputs": [],
   "source": [
    "def cost_function(X, y, theta):\n",
    "    m = X.shape[0]\n",
    "    if m == 0:\n",
    "        return None\n",
    "    \n",
    "    J = (-y * np.log(h(X, theta)) - (1 - y) * np.log(1 - h(X, theta))).mean()\n",
    "    \n",
    "    return J"
   ]
  },
  {
   "cell_type": "code",
   "execution_count": 28,
   "metadata": {},
   "outputs": [],
   "source": [
    "def derivative_theta(X, y, theta):\n",
    "    m = X.shape[0]\n",
    "    if m == 0:\n",
    "        return None\n",
    "\n",
    "    d_theta = np.dot(X.T, (h(X, theta) - y)) / m\n",
    "    \n",
    "    return d_theta"
   ]
  },
  {
   "cell_type": "code",
   "execution_count": 29,
   "metadata": {},
   "outputs": [],
   "source": [
    "def gradient_descent(X, y, theta, alpha, epsilon, num_iters, print_J = True):\n",
    "    m = X.shape[0]\n",
    "    J_history = []\n",
    "    \n",
    "    J = cost_function(X, y, theta)\n",
    "    \n",
    "    if print_J == True:\n",
    "        print(J)\n",
    "    J_history.append(J)\n",
    "    for i in range(num_iters):\n",
    "        \n",
    "        delta = derivative_theta(X, y, theta)\n",
    "        theta = theta - alpha * delta\n",
    "        \n",
    "        J = cost_function(X, y, theta)\n",
    "        \n",
    "        J_history.append(J)\n",
    "        \n",
    "        if i % 1000 == 0 and print_J == True:\n",
    "            print(J)\n",
    "        \n",
    "        if abs(J-J_history[-2]) < epsilon:\n",
    "            break\n",
    "            \n",
    "    return theta, J_history"
   ]
  },
  {
   "cell_type": "code",
   "execution_count": 30,
   "metadata": {},
   "outputs": [],
   "source": [
    "def predict(X, theta):\n",
    "    X_test_proc = prepare_X(X)\n",
    "    predictions = h(X_test_proc, theta)\n",
    "    return predictions.round(0)"
   ]
  },
  {
   "cell_type": "markdown",
   "metadata": {},
   "source": [
    "Hyperparameters:"
   ]
  },
  {
   "cell_type": "code",
   "execution_count": 31,
   "metadata": {},
   "outputs": [],
   "source": [
    "alpha = 0.01\n",
    "max_iters = 100000"
   ]
  },
  {
   "cell_type": "code",
   "execution_count": 32,
   "metadata": {},
   "outputs": [],
   "source": [
    "X_new, mean, std = normalize(X_train)"
   ]
  },
  {
   "cell_type": "code",
   "execution_count": 33,
   "metadata": {},
   "outputs": [],
   "source": [
    "X_new = prepare_X(X_new)\n",
    "Y_new = Y_train.values.reshape((X_train.shape[0], 1))"
   ]
  },
  {
   "cell_type": "code",
   "execution_count": 34,
   "metadata": {},
   "outputs": [
    {
     "data": {
      "text/plain": [
       "49"
      ]
     },
     "execution_count": 34,
     "metadata": {},
     "output_type": "execute_result"
    }
   ],
   "source": [
    "#theta = np.zeros((X_new.shape[1], 1))\n",
    "theta = np.array([0, 0, 0, 0, 0, 0, 0, 0, 0, 0, 0, 0, 0, 0, 0, 0, 0, 0, 0, 0, 0, 0, 0, 0, 0, 0, 0, 0, 0, 0, 0, 0, 0, 0, 0, 0, 0, 0, 0, 0, 0, 0, 0, 0, 0, 0, 0, 0, 0])\n",
    "theta.shape[0]"
   ]
  },
  {
   "cell_type": "code",
   "execution_count": 35,
   "metadata": {},
   "outputs": [
    {
     "name": "stdout",
     "output_type": "stream",
     "text": [
      "[ 0.79750459  0.01528796 -0.01607344 -0.03650645 -0.04604581 -0.05069408\n",
      " -0.05822043 -0.05159691 -0.05128454 -0.04414079 -0.03996187 -0.03371325\n",
      " -0.01448071 -0.02782152 -0.00625814 -0.01170241 -0.02754767 -0.00653086\n",
      "  0.01056781  0.00787645 -0.02296424 -0.00182987 -0.01495654 -0.02720707\n",
      "  0.02197153  0.01966137 -0.00697156 -0.0309146   0.01862933  0.02427491\n",
      "  0.02805089  0.02238163  0.01113192 -0.02476146 -0.04357232 -0.04247165\n",
      " -0.05064778 -0.08448509 -0.09802828 -0.11567252 -0.15843851 -0.161316\n",
      " -0.19374451 -0.21389106 -0.22988661 -0.22991476 -0.2557413  -0.25210161\n",
      " -0.25549368] 8993\n"
     ]
    }
   ],
   "source": [
    "new_theta, Js = gradient_descent(X_new, Y_train, theta, alpha, 1e-7, max_iters, False)\n",
    "print(new_theta, len(Js))"
   ]
  },
  {
   "cell_type": "code",
   "execution_count": 36,
   "metadata": {},
   "outputs": [
    {
     "name": "stdout",
     "output_type": "stream",
     "text": [
      "[0. 0. 0. ... 0. 0. 0.]\n"
     ]
    }
   ],
   "source": [
    "Y_train_pred = predict(X_train, new_theta)\n",
    "print(Y_train_pred)"
   ]
  },
  {
   "cell_type": "code",
   "execution_count": 37,
   "metadata": {},
   "outputs": [
    {
     "name": "stdout",
     "output_type": "stream",
     "text": [
      "[0. 0. 0. ... 0. 1. 0.]\n"
     ]
    }
   ],
   "source": [
    "Y_test_pred = predict(X_test, new_theta)\n",
    "print(Y_test_pred)"
   ]
  },
  {
   "cell_type": "markdown",
   "metadata": {},
   "source": [
    "Results evaluation for training data:"
   ]
  },
  {
   "cell_type": "code",
   "execution_count": 38,
   "metadata": {},
   "outputs": [
    {
     "name": "stdout",
     "output_type": "stream",
     "text": [
      "Accuracy: 0.37674\n",
      "\n",
      "\tConfusion Matrix:\n",
      "Predicted    0.0    1.0\n",
      "Actual                 \n",
      "0          24182   3294\n",
      "1          74519  22853\n",
      "\n",
      "Precision: 0.87402\n",
      "\n",
      "Recall: 0.23470\n"
     ]
    }
   ],
   "source": [
    "# Accuracy\n",
    "acc_scr = accuracy_score(Y_train, Y_train_pred)\n",
    "print(\"Accuracy: {:.5f}\\n\".format(acc_scr))\n",
    "\n",
    "# Confusion Matrix:\n",
    "conf_mtrx = pd.crosstab(Y_train, Y_train_pred, rownames=['Actual'], colnames=['Predicted'])\n",
    "print(\"\\tConfusion Matrix:\\n{}\".format(conf_mtrx))\n",
    "\n",
    "# Precision\n",
    "prec = conf_mtrx[1][1]/(conf_mtrx[1][1] + conf_mtrx[1][0])\n",
    "print(\"\\nPrecision: {:.5f}\".format(prec))\n",
    "\n",
    "# Recall\n",
    "recall = conf_mtrx[1][1]/(conf_mtrx[1][1] + conf_mtrx[0][1])\n",
    "print(\"\\nRecall: {:.5f}\".format(recall))"
   ]
  },
  {
   "cell_type": "markdown",
   "metadata": {},
   "source": [
    "Results evaluation for test data:"
   ]
  },
  {
   "cell_type": "code",
   "execution_count": 39,
   "metadata": {},
   "outputs": [
    {
     "name": "stdout",
     "output_type": "stream",
     "text": [
      "Accuracy: 0.37364\n",
      "\n",
      "\tConfusion Matrix:\n",
      "Predicted    0.0   1.0\n",
      "Actual                \n",
      "0           5989   880\n",
      "1          18670  5673\n",
      "\n",
      "Precision: 0.86571\n",
      "\n",
      "Recall: 0.23304\n"
     ]
    }
   ],
   "source": [
    "# Accuracy\n",
    "acc_scr = accuracy_score(Y_test, Y_test_pred)\n",
    "print(\"Accuracy: {:.5f}\\n\".format(acc_scr))\n",
    "\n",
    "# Confusion Matrix:\n",
    "conf_mtrx = pd.crosstab(Y_test, Y_test_pred, rownames=['Actual'], colnames=['Predicted'])\n",
    "print(\"\\tConfusion Matrix:\\n{}\".format(conf_mtrx))\n",
    "\n",
    "# Precision\n",
    "prec = conf_mtrx[1][1]/(conf_mtrx[1][1] + conf_mtrx[1][0])\n",
    "print(\"\\nPrecision: {:.5f}\".format(prec))\n",
    "\n",
    "# Recall\n",
    "recall = conf_mtrx[1][1]/(conf_mtrx[1][1] + conf_mtrx[0][1])\n",
    "print(\"\\nRecall: {:.5f}\".format(recall))"
   ]
  }
 ],
 "metadata": {
  "kernelspec": {
   "display_name": "Python 3",
   "language": "python",
   "name": "python3"
  },
  "language_info": {
   "codemirror_mode": {
    "name": "ipython",
    "version": 3
   },
   "file_extension": ".py",
   "mimetype": "text/x-python",
   "name": "python",
   "nbconvert_exporter": "python",
   "pygments_lexer": "ipython3",
   "version": "3.7.0"
  }
 },
 "nbformat": 4,
 "nbformat_minor": 4
}
