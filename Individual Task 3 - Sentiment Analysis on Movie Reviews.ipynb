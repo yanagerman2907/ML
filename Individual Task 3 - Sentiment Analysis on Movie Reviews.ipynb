{
 "cells": [
  {
   "cell_type": "markdown",
   "metadata": {},
   "source": [
    "# Sentiment Analysis on Movie Reviews"
   ]
  },
  {
   "cell_type": "markdown",
   "metadata": {},
   "source": [
    "### Individual Task 2. Yana Herman. Multiclass classification"
   ]
  },
  {
   "cell_type": "code",
   "execution_count": 1,
   "metadata": {},
   "outputs": [],
   "source": [
    "import os\n",
    "import string\n",
    "import numpy as np\n",
    "import pandas as pd\n",
    "import seaborn as sns\n",
    "import matplotlib.pyplot as plt\n",
    "%matplotlib inline\n",
    "\n",
    "import sklearn\n",
    "from sklearn.svm import LinearSVC\n",
    "from sklearn.pipeline import Pipeline\n",
    "from sklearn.compose import ColumnTransformer\n",
    "from sklearn.preprocessing import OneHotEncoder\n",
    "from sklearn.neural_network import MLPClassifier\n",
    "from sklearn.feature_extraction.text import TfidfVectorizer\n",
    "from sklearn.model_selection import train_test_split, GridSearchCV\n",
    "from sklearn.metrics import accuracy_score, confusion_matrix, classification_report\n",
    "\n",
    "import nltk\n",
    "\n",
    "from nltk.corpus import stopwords\n",
    "from nltk.stem.porter import PorterStemmer\n",
    "\n",
    "import unicodedata, re\n",
    "import warnings"
   ]
  },
  {
   "cell_type": "markdown",
   "metadata": {},
   "source": [
    "### 1. Preparation & Data analysis"
   ]
  },
  {
   "cell_type": "code",
   "execution_count": 2,
   "metadata": {},
   "outputs": [],
   "source": [
    "train = pd.read_csv('train.tsv', '\\t')\n",
    "test = pd.read_csv('test.tsv', '\\t')"
   ]
  },
  {
   "cell_type": "markdown",
   "metadata": {},
   "source": [
    "- train.tsv contains the phrases and their associated sentiment labels. SentenceId helps to track which phrases belong to a single sentence.\n",
    "- test.tsv contains just phrases. You must assign a sentiment label to each phrase."
   ]
  },
  {
   "cell_type": "code",
   "execution_count": 3,
   "metadata": {},
   "outputs": [
    {
     "name": "stdout",
     "output_type": "stream",
     "text": [
      "Train : (156060, 4)\n",
      "Test: (66292, 3)\n"
     ]
    }
   ],
   "source": [
    "#dataset shapes\n",
    "print(\"Train :\",train.shape)\n",
    "print(\"Test:\",test.shape)"
   ]
  },
  {
   "cell_type": "markdown",
   "metadata": {},
   "source": [
    "#### Checking for NULL or NA"
   ]
  },
  {
   "cell_type": "code",
   "execution_count": 4,
   "metadata": {},
   "outputs": [
    {
     "data": {
      "text/plain": [
       "[]"
      ]
     },
     "execution_count": 4,
     "metadata": {},
     "output_type": "execute_result"
    }
   ],
   "source": [
    "train.columns[train.isna().any()].tolist()"
   ]
  },
  {
   "cell_type": "code",
   "execution_count": 5,
   "metadata": {},
   "outputs": [
    {
     "data": {
      "text/plain": [
       "[]"
      ]
     },
     "execution_count": 5,
     "metadata": {},
     "output_type": "execute_result"
    }
   ],
   "source": [
    "test.columns[test.isna().any()].tolist()"
   ]
  },
  {
   "cell_type": "markdown",
   "metadata": {},
   "source": [
    "#### Sentiment labels"
   ]
  },
  {
   "cell_type": "code",
   "execution_count": 6,
   "metadata": {},
   "outputs": [
    {
     "data": {
      "text/html": [
       "<div>\n",
       "<style scoped>\n",
       "    .dataframe tbody tr th:only-of-type {\n",
       "        vertical-align: middle;\n",
       "    }\n",
       "\n",
       "    .dataframe tbody tr th {\n",
       "        vertical-align: top;\n",
       "    }\n",
       "\n",
       "    .dataframe thead th {\n",
       "        text-align: right;\n",
       "    }\n",
       "</style>\n",
       "<table border=\"1\" class=\"dataframe\">\n",
       "  <thead>\n",
       "    <tr style=\"text-align: right;\">\n",
       "      <th></th>\n",
       "      <th>PhraseId</th>\n",
       "      <th>SentenceId</th>\n",
       "      <th>Phrase</th>\n",
       "      <th>Sentiment</th>\n",
       "    </tr>\n",
       "  </thead>\n",
       "  <tbody>\n",
       "    <tr>\n",
       "      <th>0</th>\n",
       "      <td>1</td>\n",
       "      <td>1</td>\n",
       "      <td>A series of escapades demonstrating the adage ...</td>\n",
       "      <td>1</td>\n",
       "    </tr>\n",
       "    <tr>\n",
       "      <th>1</th>\n",
       "      <td>2</td>\n",
       "      <td>1</td>\n",
       "      <td>A series of escapades demonstrating the adage ...</td>\n",
       "      <td>2</td>\n",
       "    </tr>\n",
       "    <tr>\n",
       "      <th>2</th>\n",
       "      <td>3</td>\n",
       "      <td>1</td>\n",
       "      <td>A series</td>\n",
       "      <td>2</td>\n",
       "    </tr>\n",
       "    <tr>\n",
       "      <th>3</th>\n",
       "      <td>4</td>\n",
       "      <td>1</td>\n",
       "      <td>A</td>\n",
       "      <td>2</td>\n",
       "    </tr>\n",
       "    <tr>\n",
       "      <th>4</th>\n",
       "      <td>5</td>\n",
       "      <td>1</td>\n",
       "      <td>series</td>\n",
       "      <td>2</td>\n",
       "    </tr>\n",
       "  </tbody>\n",
       "</table>\n",
       "</div>"
      ],
      "text/plain": [
       "   PhraseId  SentenceId                                             Phrase  \\\n",
       "0         1           1  A series of escapades demonstrating the adage ...   \n",
       "1         2           1  A series of escapades demonstrating the adage ...   \n",
       "2         3           1                                           A series   \n",
       "3         4           1                                                  A   \n",
       "4         5           1                                             series   \n",
       "\n",
       "   Sentiment  \n",
       "0          1  \n",
       "1          2  \n",
       "2          2  \n",
       "3          2  \n",
       "4          2  "
      ]
     },
     "execution_count": 6,
     "metadata": {},
     "output_type": "execute_result"
    }
   ],
   "source": [
    "train.head()"
   ]
  },
  {
   "cell_type": "markdown",
   "metadata": {},
   "source": [
    "The sentiment labels are:\n",
    "\n",
    "- 0 - negative\n",
    "- 1 - somewhat negative\n",
    "- 2 - neutral\n",
    "- 3 - somewhat positive\n",
    "- 4 - positive"
   ]
  },
  {
   "cell_type": "code",
   "execution_count": 7,
   "metadata": {},
   "outputs": [
    {
     "data": {
      "text/plain": [
       "'A series of escapades demonstrating the adage that what is good for the goose is also good for the gander , some of which occasionally amuses but none of which amounts to much of a story .'"
      ]
     },
     "execution_count": 7,
     "metadata": {},
     "output_type": "execute_result"
    }
   ],
   "source": [
    "train['Phrase'][0]"
   ]
  },
  {
   "cell_type": "code",
   "execution_count": 8,
   "metadata": {},
   "outputs": [
    {
     "data": {
      "text/html": [
       "<div>\n",
       "<style scoped>\n",
       "    .dataframe tbody tr th:only-of-type {\n",
       "        vertical-align: middle;\n",
       "    }\n",
       "\n",
       "    .dataframe tbody tr th {\n",
       "        vertical-align: top;\n",
       "    }\n",
       "\n",
       "    .dataframe thead th {\n",
       "        text-align: right;\n",
       "    }\n",
       "</style>\n",
       "<table border=\"1\" class=\"dataframe\">\n",
       "  <thead>\n",
       "    <tr style=\"text-align: right;\">\n",
       "      <th></th>\n",
       "      <th>PhraseId</th>\n",
       "      <th>SentenceId</th>\n",
       "      <th>Phrase</th>\n",
       "    </tr>\n",
       "  </thead>\n",
       "  <tbody>\n",
       "    <tr>\n",
       "      <th>0</th>\n",
       "      <td>156061</td>\n",
       "      <td>8545</td>\n",
       "      <td>An intermittently pleasing but mostly routine ...</td>\n",
       "    </tr>\n",
       "    <tr>\n",
       "      <th>1</th>\n",
       "      <td>156062</td>\n",
       "      <td>8545</td>\n",
       "      <td>An intermittently pleasing but mostly routine ...</td>\n",
       "    </tr>\n",
       "    <tr>\n",
       "      <th>2</th>\n",
       "      <td>156063</td>\n",
       "      <td>8545</td>\n",
       "      <td>An</td>\n",
       "    </tr>\n",
       "    <tr>\n",
       "      <th>3</th>\n",
       "      <td>156064</td>\n",
       "      <td>8545</td>\n",
       "      <td>intermittently pleasing but mostly routine effort</td>\n",
       "    </tr>\n",
       "    <tr>\n",
       "      <th>4</th>\n",
       "      <td>156065</td>\n",
       "      <td>8545</td>\n",
       "      <td>intermittently pleasing but mostly routine</td>\n",
       "    </tr>\n",
       "  </tbody>\n",
       "</table>\n",
       "</div>"
      ],
      "text/plain": [
       "   PhraseId  SentenceId                                             Phrase\n",
       "0    156061        8545  An intermittently pleasing but mostly routine ...\n",
       "1    156062        8545  An intermittently pleasing but mostly routine ...\n",
       "2    156063        8545                                                 An\n",
       "3    156064        8545  intermittently pleasing but mostly routine effort\n",
       "4    156065        8545         intermittently pleasing but mostly routine"
      ]
     },
     "execution_count": 8,
     "metadata": {},
     "output_type": "execute_result"
    }
   ],
   "source": [
    "test.head()"
   ]
  },
  {
   "cell_type": "markdown",
   "metadata": {},
   "source": [
    "#### Number of phrases with sentiment labels"
   ]
  },
  {
   "cell_type": "code",
   "execution_count": 9,
   "metadata": {},
   "outputs": [
    {
     "data": {
      "image/png": "[encoded data removed]",
      "text/plain": [
       "<Figure size 864x576 with 1 Axes>"
      ]
     },
     "metadata": {
      "needs_background": "light"
     },
     "output_type": "display_data"
    }
   ],
   "source": [
    "dist = train.groupby([\"Sentiment\"]).size()\n",
    "\n",
    "fig, ax = plt.subplots(figsize=(12,8))\n",
    "sns.barplot( dist.keys(), dist.values, palette=\"rocket\");"
   ]
  },
  {
   "cell_type": "markdown",
   "metadata": {},
   "source": [
    "We will use words to create a feature matrix"
   ]
  },
  {
   "cell_type": "code",
   "execution_count": 10,
   "metadata": {},
   "outputs": [],
   "source": [
    "words = train['Phrase'].apply(nltk.word_tokenize)"
   ]
  },
  {
   "cell_type": "markdown",
   "metadata": {},
   "source": [
    "#### Data normalization"
   ]
  },
  {
   "cell_type": "code",
   "execution_count": 11,
   "metadata": {},
   "outputs": [],
   "source": [
    "# For text cleaning\n",
    "\n",
    "RE_NEXT_LINE = re.compile('\\\\n+', re.M)#RE_LINE_BREAK\n",
    "RE_QUATATION = re.compile('^.*writes:$', re.M)\n",
    "RE_QUATATION_MARKS = re.compile('(\\W+|^)(\\|>|>|\\|)+', re.M)\n",
    "STOP_WORDS = set(stopwords.words('english'))\n",
    "STEMMER = PorterStemmer()\n",
    "#The reason why we stem is to shorten the lookup, and normalize sentences.\n",
    "\n",
    "TEXT_LENS = []\n",
    "\n",
    "def _clean(docs):\n",
    "    docs = map(rmQuatation, docs)\n",
    "    docs = map(rmQuatationMarks, docs)\n",
    "    docs = map(rmNumbers, docs)\n",
    "    docs = map(rmNextLine, docs)\n",
    "    docs = map(toLower, docs)\n",
    "    docs = map(rmStopwords, docs)\n",
    "    docs = map(rmTooShortOrLong, docs)\n",
    "    docs = map(stemWords, docs)\n",
    "    \n",
    "    return list(docs)\n",
    "\n",
    "def rmQuatation(doc):\n",
    "    return RE_QUATATION.sub('', doc)\n",
    "\n",
    "def rmQuatationMarks(doc):\n",
    "    return RE_QUATATION_MARKS.sub(r'\\1', doc)\n",
    "\n",
    "def rmNextLine(doc):\n",
    "    return RE_NEXT_LINE.sub(' ', doc).strip('\\n\\t ')\n",
    "\n",
    "def rmNumbers(doc):\n",
    "    return re.sub('[^a-zA-Z]', ' ', doc)\n",
    "\n",
    "def toLower(doc):\n",
    "    return doc.lower()\n",
    "\n",
    "def rmStopwords(doc):\n",
    "    doc = doc.split()\n",
    "    doc = [w for w in doc if not w in STOP_WORDS]\n",
    "    return ' '.join(doc)\n",
    "\n",
    "def rmTooShortOrLong(doc):\n",
    "    doc = doc.split()\n",
    "    doc = [w for w in doc if len(w) >=3 and len(w) <= 15]\n",
    "    return ' '.join(doc)\n",
    "\n",
    "def stemWords(doc):\n",
    "    doc = doc.split()\n",
    "    doc = [STEMMER.stem(w) for w in doc]\n",
    "    TEXT_LENS.append(len(doc))\n",
    "    return ' '.join(doc)"
   ]
  },
  {
   "cell_type": "code",
   "execution_count": 12,
   "metadata": {},
   "outputs": [
    {
     "data": {
      "text/html": [
       "<div>\n",
       "<style scoped>\n",
       "    .dataframe tbody tr th:only-of-type {\n",
       "        vertical-align: middle;\n",
       "    }\n",
       "\n",
       "    .dataframe tbody tr th {\n",
       "        vertical-align: top;\n",
       "    }\n",
       "\n",
       "    .dataframe thead th {\n",
       "        text-align: right;\n",
       "    }\n",
       "</style>\n",
       "<table border=\"1\" class=\"dataframe\">\n",
       "  <thead>\n",
       "    <tr style=\"text-align: right;\">\n",
       "      <th></th>\n",
       "      <th>Phrase</th>\n",
       "      <th>Sentiment</th>\n",
       "    </tr>\n",
       "  </thead>\n",
       "  <tbody>\n",
       "    <tr>\n",
       "      <th>0</th>\n",
       "      <td>seri escapad demonstr adag good goos also good...</td>\n",
       "      <td>1</td>\n",
       "    </tr>\n",
       "    <tr>\n",
       "      <th>1</th>\n",
       "      <td>seri escapad demonstr adag good goos</td>\n",
       "      <td>2</td>\n",
       "    </tr>\n",
       "    <tr>\n",
       "      <th>2</th>\n",
       "      <td>seri</td>\n",
       "      <td>2</td>\n",
       "    </tr>\n",
       "    <tr>\n",
       "      <th>3</th>\n",
       "      <td></td>\n",
       "      <td>2</td>\n",
       "    </tr>\n",
       "    <tr>\n",
       "      <th>4</th>\n",
       "      <td>seri</td>\n",
       "      <td>2</td>\n",
       "    </tr>\n",
       "    <tr>\n",
       "      <th>...</th>\n",
       "      <td>...</td>\n",
       "      <td>...</td>\n",
       "    </tr>\n",
       "    <tr>\n",
       "      <th>156055</th>\n",
       "      <td>hearst</td>\n",
       "      <td>2</td>\n",
       "    </tr>\n",
       "    <tr>\n",
       "      <th>156056</th>\n",
       "      <td>forc avuncular chortl</td>\n",
       "      <td>1</td>\n",
       "    </tr>\n",
       "    <tr>\n",
       "      <th>156057</th>\n",
       "      <td>avuncular chortl</td>\n",
       "      <td>3</td>\n",
       "    </tr>\n",
       "    <tr>\n",
       "      <th>156058</th>\n",
       "      <td>avuncular</td>\n",
       "      <td>2</td>\n",
       "    </tr>\n",
       "    <tr>\n",
       "      <th>156059</th>\n",
       "      <td>chortl</td>\n",
       "      <td>2</td>\n",
       "    </tr>\n",
       "  </tbody>\n",
       "</table>\n",
       "<p>156060 rows × 2 columns</p>\n",
       "</div>"
      ],
      "text/plain": [
       "                                                   Phrase  Sentiment\n",
       "0       seri escapad demonstr adag good goos also good...          1\n",
       "1                    seri escapad demonstr adag good goos          2\n",
       "2                                                    seri          2\n",
       "3                                                                  2\n",
       "4                                                    seri          2\n",
       "...                                                   ...        ...\n",
       "156055                                             hearst          2\n",
       "156056                              forc avuncular chortl          1\n",
       "156057                                   avuncular chortl          3\n",
       "156058                                          avuncular          2\n",
       "156059                                             chortl          2\n",
       "\n",
       "[156060 rows x 2 columns]"
      ]
     },
     "execution_count": 12,
     "metadata": {},
     "output_type": "execute_result"
    }
   ],
   "source": [
    "df_train = pd.DataFrame.from_dict({\n",
    "        'Phrase': _clean(train.Phrase),\n",
    "        'Sentiment': train.Sentiment\n",
    "    })\n",
    "df_train"
   ]
  },
  {
   "cell_type": "code",
   "execution_count": 13,
   "metadata": {},
   "outputs": [
    {
     "data": {
      "text/html": [
       "<div>\n",
       "<style scoped>\n",
       "    .dataframe tbody tr th:only-of-type {\n",
       "        vertical-align: middle;\n",
       "    }\n",
       "\n",
       "    .dataframe tbody tr th {\n",
       "        vertical-align: top;\n",
       "    }\n",
       "\n",
       "    .dataframe thead th {\n",
       "        text-align: right;\n",
       "    }\n",
       "</style>\n",
       "<table border=\"1\" class=\"dataframe\">\n",
       "  <thead>\n",
       "    <tr style=\"text-align: right;\">\n",
       "      <th></th>\n",
       "      <th>Phrase</th>\n",
       "    </tr>\n",
       "  </thead>\n",
       "  <tbody>\n",
       "    <tr>\n",
       "      <th>0</th>\n",
       "      <td>intermitt pleas mostli routin effort</td>\n",
       "    </tr>\n",
       "    <tr>\n",
       "      <th>1</th>\n",
       "      <td>intermitt pleas mostli routin effort</td>\n",
       "    </tr>\n",
       "    <tr>\n",
       "      <th>2</th>\n",
       "      <td></td>\n",
       "    </tr>\n",
       "    <tr>\n",
       "      <th>3</th>\n",
       "      <td>intermitt pleas mostli routin effort</td>\n",
       "    </tr>\n",
       "    <tr>\n",
       "      <th>4</th>\n",
       "      <td>intermitt pleas mostli routin</td>\n",
       "    </tr>\n",
       "    <tr>\n",
       "      <th>...</th>\n",
       "      <td>...</td>\n",
       "    </tr>\n",
       "    <tr>\n",
       "      <th>66287</th>\n",
       "      <td>long wind predict scenario</td>\n",
       "    </tr>\n",
       "    <tr>\n",
       "      <th>66288</th>\n",
       "      <td>long wind predict scenario</td>\n",
       "    </tr>\n",
       "    <tr>\n",
       "      <th>66289</th>\n",
       "      <td>long wind</td>\n",
       "    </tr>\n",
       "    <tr>\n",
       "      <th>66290</th>\n",
       "      <td>long wind</td>\n",
       "    </tr>\n",
       "    <tr>\n",
       "      <th>66291</th>\n",
       "      <td>predict scenario</td>\n",
       "    </tr>\n",
       "  </tbody>\n",
       "</table>\n",
       "<p>66292 rows × 1 columns</p>\n",
       "</div>"
      ],
      "text/plain": [
       "                                     Phrase\n",
       "0      intermitt pleas mostli routin effort\n",
       "1      intermitt pleas mostli routin effort\n",
       "2                                          \n",
       "3      intermitt pleas mostli routin effort\n",
       "4             intermitt pleas mostli routin\n",
       "...                                     ...\n",
       "66287            long wind predict scenario\n",
       "66288            long wind predict scenario\n",
       "66289                             long wind\n",
       "66290                             long wind\n",
       "66291                      predict scenario\n",
       "\n",
       "[66292 rows x 1 columns]"
      ]
     },
     "execution_count": 13,
     "metadata": {},
     "output_type": "execute_result"
    }
   ],
   "source": [
    "df_test = pd.DataFrame.from_dict({\n",
    "        'Phrase': _clean(test.Phrase)\n",
    "    })\n",
    "df_test"
   ]
  },
  {
   "cell_type": "markdown",
   "metadata": {},
   "source": [
    "#### Split train data into two subtraining sets"
   ]
  },
  {
   "cell_type": "markdown",
   "metadata": {},
   "source": [
    "The training dataset doesn't have a column with labels (marks). So, let's split training set into train (train) and test(train_test) set."
   ]
  },
  {
   "cell_type": "code",
   "execution_count": 14,
   "metadata": {},
   "outputs": [],
   "source": [
    "train, train_test = train_test_split(df_train, test_size=0.2, random_state=42, stratify=df_train.Sentiment)"
   ]
  },
  {
   "cell_type": "code",
   "execution_count": 15,
   "metadata": {},
   "outputs": [
    {
     "data": {
      "text/plain": [
       "(124848, 2)"
      ]
     },
     "execution_count": 15,
     "metadata": {},
     "output_type": "execute_result"
    }
   ],
   "source": [
    "train.shape"
   ]
  },
  {
   "cell_type": "code",
   "execution_count": 16,
   "metadata": {},
   "outputs": [
    {
     "data": {
      "text/html": [
       "<div>\n",
       "<style scoped>\n",
       "    .dataframe tbody tr th:only-of-type {\n",
       "        vertical-align: middle;\n",
       "    }\n",
       "\n",
       "    .dataframe tbody tr th {\n",
       "        vertical-align: top;\n",
       "    }\n",
       "\n",
       "    .dataframe thead th {\n",
       "        text-align: right;\n",
       "    }\n",
       "</style>\n",
       "<table border=\"1\" class=\"dataframe\">\n",
       "  <thead>\n",
       "    <tr style=\"text-align: right;\">\n",
       "      <th></th>\n",
       "      <th>Phrase</th>\n",
       "      <th>Sentiment</th>\n",
       "    </tr>\n",
       "  </thead>\n",
       "  <tbody>\n",
       "    <tr>\n",
       "      <th>7963</th>\n",
       "      <td>passion somewhat flaw</td>\n",
       "      <td>2</td>\n",
       "    </tr>\n",
       "    <tr>\n",
       "      <th>5881</th>\n",
       "      <td>thoughtless</td>\n",
       "      <td>1</td>\n",
       "    </tr>\n",
       "    <tr>\n",
       "      <th>124471</th>\n",
       "      <td>move odd plot direct descend messag monger mor...</td>\n",
       "      <td>1</td>\n",
       "    </tr>\n",
       "    <tr>\n",
       "      <th>10624</th>\n",
       "      <td>one say bald year old actor play innoc boy car...</td>\n",
       "      <td>2</td>\n",
       "    </tr>\n",
       "    <tr>\n",
       "      <th>57016</th>\n",
       "      <td>simpl soapi</td>\n",
       "      <td>3</td>\n",
       "    </tr>\n",
       "    <tr>\n",
       "      <th>...</th>\n",
       "      <td>...</td>\n",
       "      <td>...</td>\n",
       "    </tr>\n",
       "    <tr>\n",
       "      <th>91083</th>\n",
       "      <td>mainli suspens excit</td>\n",
       "      <td>1</td>\n",
       "    </tr>\n",
       "    <tr>\n",
       "      <th>55121</th>\n",
       "      <td>total rehash</td>\n",
       "      <td>2</td>\n",
       "    </tr>\n",
       "    <tr>\n",
       "      <th>59330</th>\n",
       "      <td>enjoy hot chick</td>\n",
       "      <td>2</td>\n",
       "    </tr>\n",
       "    <tr>\n",
       "      <th>77841</th>\n",
       "      <td>indiffer</td>\n",
       "      <td>1</td>\n",
       "    </tr>\n",
       "    <tr>\n",
       "      <th>81495</th>\n",
       "      <td>scienc fiction movi</td>\n",
       "      <td>2</td>\n",
       "    </tr>\n",
       "  </tbody>\n",
       "</table>\n",
       "<p>31212 rows × 2 columns</p>\n",
       "</div>"
      ],
      "text/plain": [
       "                                                   Phrase  Sentiment\n",
       "7963                                passion somewhat flaw          2\n",
       "5881                                          thoughtless          1\n",
       "124471  move odd plot direct descend messag monger mor...          1\n",
       "10624   one say bald year old actor play innoc boy car...          2\n",
       "57016                                         simpl soapi          3\n",
       "...                                                   ...        ...\n",
       "91083                                mainli suspens excit          1\n",
       "55121                                        total rehash          2\n",
       "59330                                     enjoy hot chick          2\n",
       "77841                                            indiffer          1\n",
       "81495                                 scienc fiction movi          2\n",
       "\n",
       "[31212 rows x 2 columns]"
      ]
     },
     "execution_count": 16,
     "metadata": {},
     "output_type": "execute_result"
    }
   ],
   "source": [
    "train_test"
   ]
  },
  {
   "cell_type": "markdown",
   "metadata": {},
   "source": [
    "#### Setting labels"
   ]
  },
  {
   "cell_type": "code",
   "execution_count": 17,
   "metadata": {},
   "outputs": [
    {
     "data": {
      "text/plain": [
       "2    63665\n",
       "3    26342\n",
       "1    21818\n",
       "4     7365\n",
       "0     5658\n",
       "Name: Sentiment, dtype: int64"
      ]
     },
     "execution_count": 17,
     "metadata": {},
     "output_type": "execute_result"
    }
   ],
   "source": [
    "train.Sentiment.value_counts()"
   ]
  },
  {
   "cell_type": "code",
   "execution_count": 18,
   "metadata": {},
   "outputs": [
    {
     "data": {
      "text/plain": [
       "2    15917\n",
       "3     6585\n",
       "1     5455\n",
       "4     1841\n",
       "0     1414\n",
       "Name: Sentiment, dtype: int64"
      ]
     },
     "execution_count": 18,
     "metadata": {},
     "output_type": "execute_result"
    }
   ],
   "source": [
    "train_test.Sentiment.value_counts()"
   ]
  },
  {
   "cell_type": "markdown",
   "metadata": {},
   "source": [
    "#### Text encoding"
   ]
  },
  {
   "cell_type": "code",
   "execution_count": 19,
   "metadata": {},
   "outputs": [
    {
     "data": {
      "text/plain": [
       "29"
      ]
     },
     "execution_count": 19,
     "metadata": {},
     "output_type": "execute_result"
    }
   ],
   "source": [
    "max(TEXT_LENS) #longest word"
   ]
  },
  {
   "cell_type": "code",
   "execution_count": 20,
   "metadata": {},
   "outputs": [],
   "source": [
    "tfidf = TfidfVectorizer(max_features=max(TEXT_LENS)).fit(train.Phrase)"
   ]
  },
  {
   "cell_type": "code",
   "execution_count": 21,
   "metadata": {},
   "outputs": [
    {
     "data": {
      "text/plain": [
       "[(0, 'bad'),\n",
       " (1, 'charact'),\n",
       " (2, 'come'),\n",
       " (3, 'comedi'),\n",
       " (4, 'director'),\n",
       " (5, 'even'),\n",
       " (6, 'feel'),\n",
       " (7, 'film'),\n",
       " (8, 'funni'),\n",
       " (9, 'get')]"
      ]
     },
     "execution_count": 21,
     "metadata": {},
     "output_type": "execute_result"
    }
   ],
   "source": [
    "keys = sorted((key, token) for token, key in tfidf.vocabulary_.items())\n",
    "keys[:10]"
   ]
  },
  {
   "cell_type": "markdown",
   "metadata": {},
   "source": [
    "Using TfIdfVectorizer"
   ]
  },
  {
   "cell_type": "markdown",
   "metadata": {},
   "source": [
    "Encoding according to the dictionary"
   ]
  },
  {
   "cell_type": "code",
   "execution_count": 22,
   "metadata": {},
   "outputs": [
    {
     "name": "stdout",
     "output_type": "stream",
     "text": [
      "X_train shape: (124848, 29)\n",
      "X_train shape: (31212, 29)\n",
      "X_test shape: (66292, 29)\n"
     ]
    }
   ],
   "source": [
    "X_train = tfidf.transform(train.Phrase).toarray()\n",
    "print('X_train shape: %s' % (X_train.shape,))\n",
    "\n",
    "X_train_test = tfidf.transform(train_test.Phrase).toarray()\n",
    "print('X_train shape: %s' % (X_train_test.shape,))\n",
    "\n",
    "X_test = tfidf.transform(test.Phrase).toarray()\n",
    "print('X_test shape: %s' % (X_test.shape,))"
   ]
  },
  {
   "cell_type": "markdown",
   "metadata": {},
   "source": [
    "#### Sentiment column"
   ]
  },
  {
   "cell_type": "code",
   "execution_count": 23,
   "metadata": {
    "scrolled": true
   },
   "outputs": [
    {
     "name": "stdout",
     "output_type": "stream",
     "text": [
      "Y_train shape: (124848,)\n",
      "Y_train_test shape: (31212,)\n"
     ]
    }
   ],
   "source": [
    "Y_train = train.Sentiment\n",
    "print('Y_train shape: %s' % (Y_train.shape,))\n",
    "\n",
    "Y_train_test = train_test.Sentiment\n",
    "print('Y_train_test shape: %s' % (Y_train_test.shape,))"
   ]
  },
  {
   "cell_type": "code",
   "execution_count": 24,
   "metadata": {},
   "outputs": [],
   "source": [
    "features = \"Phrase\"\n",
    "transformer = Pipeline([(\"tfidf\", TfidfVectorizer())])"
   ]
  },
  {
   "cell_type": "code",
   "execution_count": 25,
   "metadata": {},
   "outputs": [],
   "source": [
    "preprocessor = ColumnTransformer(transformers=[('cat', transformer, features)])"
   ]
  },
  {
   "cell_type": "markdown",
   "metadata": {},
   "source": [
    "## 2.Algorithm selection"
   ]
  },
  {
   "cell_type": "markdown",
   "metadata": {},
   "source": [
    "### a.Custom Neural Network"
   ]
  },
  {
   "cell_type": "code",
   "execution_count": 26,
   "metadata": {},
   "outputs": [
    {
     "name": "stdout",
     "output_type": "stream",
     "text": [
      "35876     2\n",
      "56148     3\n",
      "125229    0\n",
      "107990    4\n",
      "24483     4\n",
      "         ..\n",
      "134537    3\n",
      "21579     1\n",
      "89654     2\n",
      "49277     2\n",
      "85772     2\n",
      "Name: Sentiment, Length: 124848, dtype: int64\n",
      "[[0. 0. 1. 0. 0.]\n",
      " [0. 0. 0. 1. 0.]\n",
      " [1. 0. 0. 0. 0.]\n",
      " ...\n",
      " [0. 0. 1. 0. 0.]\n",
      " [0. 0. 1. 0. 0.]\n",
      " [0. 0. 1. 0. 0.]]\n"
     ]
    },
    {
     "data": {
      "text/plain": [
       "(124848, 5)"
      ]
     },
     "execution_count": 26,
     "metadata": {},
     "output_type": "execute_result"
    }
   ],
   "source": [
    "Y_train_transf = OneHotEncoder().fit_transform(Y_train.values.reshape(-1, 1)).toarray()\n",
    "print(Y_train)\n",
    "print(Y_train_transf)\n",
    "Y_train_transf.shape"
   ]
  },
  {
   "cell_type": "code",
   "execution_count": 27,
   "metadata": {},
   "outputs": [],
   "source": [
    "class NeuralNet:\n",
    "    \"\"\"\n",
    "    \n",
    "    NN for multi-class classification with mini-batch\n",
    "    Attributes:\n",
    "    ...\n",
    "    \"\"\"    \n",
    "    def __init__(self, mbgd_size, neurons_in_layers, normalize = True, learning_rate = 0.01, num_iter = 30000):\n",
    "        self.mbgd_size = mbgd_size\n",
    "        self.neurons_in_layers = neurons_in_layers\n",
    "        self.learning_rate = learning_rate\n",
    "        self.num_iter = num_iter\n",
    "        self.normalize = normalize\n",
    "    \n",
    "    def __normalize(self, X, mean = None, std = None):\n",
    "        n = X.shape[0]\n",
    "        m = mean\n",
    "        if m is None:\n",
    "            m = np.mean(X, axis=1).reshape((n, 1))\n",
    "        s = std\n",
    "        if s is None:\n",
    "            s = np.std(X, axis=1).reshape((n, 1))\n",
    "        X_new = (X - m) / s**2\n",
    "        return X_new, m, s\n",
    "    \n",
    "    def __sigmoid(self, Z):\n",
    "        return 1 / (1 + np.exp(-Z))\n",
    "    \n",
    "    def __softmax(self, Z):\n",
    "        eZ = np.exp(Z - np.max(Z))\n",
    "        return eZ / np.sum(eZ, axis=0, keepdims=True)\n",
    "\n",
    "    def __initialize_parameters(self):\n",
    "        neurons_in_layers = self.neurons_in_layers\n",
    "        parameters = {}\n",
    "        for i in range(1, len(neurons_in_layers)):\n",
    "            parameters[\"W\" + str(i)] = np.random.randn(neurons_in_layers[i], neurons_in_layers[i - 1]) * np.sqrt(1 / neurons_in_layers[i - 1])\n",
    "            parameters[\"b\" + str(i)] = np.zeros((neurons_in_layers[i], 1))\n",
    "        self.parameters = parameters\n",
    "       \n",
    "    def __forward_propagation(self, X):\n",
    "        parameters = self.parameters\n",
    "        caches = []\n",
    "        A = X\n",
    "        L = len(parameters) // 2\n",
    "\n",
    "        for i in range(1, L):\n",
    "            prev_A = A\n",
    "            W = parameters[\"W\"+str(i)]\n",
    "            b = parameters[\"b\"+str(i)]\n",
    "            \n",
    "            Z = np.dot(W, prev_A) + b\n",
    "            linear_cache = (prev_A, W, b)\n",
    "            \n",
    "            A = self.__softmax(Z)\n",
    "            activation_cache = Z\n",
    "            \n",
    "            cache = (linear_cache, activation_cache)            \n",
    "            caches.append(cache)   \n",
    "            \n",
    "        W = parameters[\"W\"+str(L)]\n",
    "        b = parameters[\"b\"+str(L)]\n",
    "        \n",
    "        Z = np.dot(W, A) + b\n",
    "        linear_cache = (A, W, b)\n",
    "            \n",
    "        AL = self.__softmax(Z)\n",
    "        activation_cache = Z\n",
    "            \n",
    "        cache = (linear_cache, activation_cache)            \n",
    "        caches.append(cache)  \n",
    "        \n",
    "        return AL, caches\n",
    "    \n",
    "    def compute_cost(self, A, Y):\n",
    "        J = -np.mean(Y.T * np.log(A.T+ 1e-8))\n",
    "        return J\n",
    "        \n",
    "    def __backward_propagation(self, X, Y, caches):\n",
    "        grads = {}\n",
    "        AL = X\n",
    "        L = len(caches)\n",
    "        m = AL.shape[1]\n",
    "        Y = Y.reshape(AL.shape)\n",
    "        dAL = -(np.divide(Y, AL) - np.divide(1 - Y, 1 - AL))\n",
    "        \n",
    "        linear_cache, activation_cache = caches[L-1]\n",
    "        Z = activation_cache\n",
    "        s = self.__softmax(Z)\n",
    "        dZ = dAL * s * (1 - s)\n",
    "        prev_A, W, b = linear_cache\n",
    "        m = prev_A.shape[1]\n",
    "        dW = 1 / m * np.dot(dZ, prev_A.T)\n",
    "        db = 1 / m * np.sum(dZ, axis=1, keepdims=True)\n",
    "        prev_dA = np.dot(W.T, dZ)\n",
    "        \n",
    "        grads[\"dA\" + str(L-1)] = prev_dA\n",
    "        grads[\"dW\" + str(L)] = dW\n",
    "        grads[\"db\" + str(L)] = db\n",
    "        \n",
    "        for i in reversed(range(L-1)):\n",
    "            linear_cache, activation_cache = caches[i]\n",
    "            Z = activation_cache\n",
    "            s = self.__sigmoid(Z)\n",
    "            dZ = prev_dA * s * (1 - s)\n",
    "            prev_A, W, b = linear_cache\n",
    "            m = prev_A.shape[1]\n",
    "            dW = 1 / m * np.dot(dZ, prev_A.T)\n",
    "            db = 1 / m * np.sum(dZ, axis=1, keepdims=True)\n",
    "            prev_dA = np.dot(W.T, dZ)\n",
    "            \n",
    "            grads[\"dA\" + str(i)] = prev_dA\n",
    "            grads[\"dW\" + str(i + 1)] = dW\n",
    "            grads[\"db\" + str(i + 1)] = db\n",
    "        return grads\n",
    "   \n",
    "    def __update_parameters(self, grads):\n",
    "        parameters = self.parameters\n",
    "        learning_rate = self.learning_rate\n",
    "\n",
    "        for i in range(len(parameters) // 2):\n",
    "            parameters[\"W\" + str(i+1)] = parameters[\"W\" + str(i+1)] - learning_rate * grads[\"dW\" + str(i+1)]\n",
    "            parameters[\"b\" + str(i+1)] = parameters[\"b\" + str(i+1)] - learning_rate * grads[\"db\" + str(i+1)]\n",
    "            \n",
    "        self.parameters = parameters\n",
    "        \n",
    "    def __shuffle_and_separate(self, X, Y):            \n",
    "        m = X.shape[1]\n",
    "        SS_data = [] #for shuffled and separated data\n",
    "        mbgd_size = self.mbgd_size\n",
    "        \n",
    "        perm = list(np.random.permutation(m))\n",
    "        shuff_X = X[:, perm]        \n",
    "        shuff_Y = Y[:, perm]\n",
    "\n",
    "        for i in range(0, int(np.floor(m/mbgd_size))):\n",
    "            batch_X = shuff_X[:, i*mbgd_size : (i + 1)*mbgd_size]\n",
    "            batch_Y = shuff_Y[:, i*mbgd_size : (i + 1)*mbgd_size]\n",
    "            \n",
    "            batch = (batch_X, batch_Y)\n",
    "            SS_data.append(batch)\n",
    "\n",
    "        if m % mbgd_size != 0:\n",
    "            batch_X = shuff_X[:, int(np.floor(m/mbgd_size))*mbgd_size:]\n",
    "            batch_Y = shuff_Y[:, int(np.floor(m/mbgd_size))*mbgd_size:]\n",
    "            \n",
    "            batch = (batch_X, batch_Y)\n",
    "            SS_data.append(batch)\n",
    "\n",
    "        return SS_data\n",
    "        \n",
    "    def fit(self, X_vert, Y_vert, print_cost = True):\n",
    "        \n",
    "        X, Y = X_vert.T, Y_vert.T\n",
    "        \n",
    "        if self.normalize:\n",
    "            X, self.__mean, self.__std = self.__normalize(X)\n",
    "        \n",
    "        m = X.shape[1]\n",
    "        costs = []\n",
    "        \n",
    "        self.__initialize_parameters()\n",
    "\n",
    "        for i in range(0, self.num_iter):\n",
    "            SS_data = self.__shuffle_and_separate(X, Y)\n",
    "            \n",
    "            for (batch_X, batch_Y) in SS_data:\n",
    "                A, caches = self.__forward_propagation(batch_X)\n",
    "\n",
    "                cost = self.compute_cost(A, batch_Y)\n",
    "\n",
    "                grads = self.__backward_propagation(A, batch_Y, caches)\n",
    "\n",
    "                self.__update_parameters(grads)\n",
    "            \n",
    "            costs.append(cost)\n",
    "\n",
    "            if print_cost and i % 10 == 0:\n",
    "                print(\"{}-th iteration: {}\".format(i, cost))\n",
    "\n",
    "            if i % 10 == 0:\n",
    "                costs.append(cost)\n",
    "\n",
    "        if print_cost:\n",
    "            plt.plot(costs)\n",
    "            plt.ylabel(\"Cost\")\n",
    "            plt.xlabel(\"Iteration\")\n",
    "            plt.show()\n",
    "    \n",
    "    def predict_proba(self, X_vert):\n",
    "        X = X_vert.T\n",
    "        if self.normalize:\n",
    "            X, _, _ = self.__normalize(X, self.__mean, self.__std)\n",
    "        \n",
    "        probs = self.__forward_propagation(X)[0]\n",
    "        return probs.T\n",
    "    \n",
    "    def predict(self, X_vert):\n",
    "        positive_probs = self.predict_proba(X_vert)\n",
    "        return np.argmax(positive_probs, axis = 1)"
   ]
  },
  {
   "cell_type": "markdown",
   "metadata": {},
   "source": [
    "#### Hyperparameters"
   ]
  },
  {
   "cell_type": "code",
   "execution_count": 28,
   "metadata": {},
   "outputs": [],
   "source": [
    "alpha = 0.01 #0.02\n",
    "max_iters = 100 #150\n",
    "minibatch_size = 4096 #5000\n",
    "input_layer = X_train.shape[1]\n",
    "output_layer = Y_train_transf.shape[1]"
   ]
  },
  {
   "cell_type": "code",
   "execution_count": 29,
   "metadata": {},
   "outputs": [],
   "source": [
    "clf = NeuralNet(mbgd_size = minibatch_size, neurons_in_layers = [input_layer, 145, output_layer], normalize = True, learning_rate = alpha, num_iter = max_iters)"
   ]
  },
  {
   "cell_type": "code",
   "execution_count": 30,
   "metadata": {},
   "outputs": [
    {
     "name": "stdout",
     "output_type": "stream",
     "text": [
      "0-th iteration: 0.31389817737081044\n",
      "10-th iteration: 0.27428528669699087\n",
      "20-th iteration: 0.26127042375988163\n",
      "30-th iteration: 0.2587900359084902\n",
      "40-th iteration: 0.2547302343828388\n",
      "50-th iteration: 0.2585893027694364\n",
      "60-th iteration: 0.25422482577019434\n",
      "70-th iteration: 0.254896298213612\n",
      "80-th iteration: 0.26075954698715303\n",
      "90-th iteration: 0.2531713214139004\n"
     ]
    },
    {
     "data": {
      "image/png": "[encoded data removed]",
      "text/plain": [
       "<Figure size 432x288 with 1 Axes>"
      ]
     },
     "metadata": {
      "needs_background": "light"
     },
     "output_type": "display_data"
    }
   ],
   "source": [
    "clf.fit(X_train, Y_train_transf)"
   ]
  },
  {
   "cell_type": "code",
   "execution_count": 31,
   "metadata": {},
   "outputs": [
    {
     "name": "stdout",
     "output_type": "stream",
     "text": [
      "[2 2 2 ... 2 2 2]\n"
     ]
    }
   ],
   "source": [
    "#Train data prediction\n",
    "Y_train_pred = clf.predict(X_train)\n",
    "print(Y_train_pred)"
   ]
  },
  {
   "cell_type": "code",
   "execution_count": 32,
   "metadata": {},
   "outputs": [
    {
     "name": "stdout",
     "output_type": "stream",
     "text": [
      "[2 2 2 ... 2 2 2]\n"
     ]
    }
   ],
   "source": [
    "Y_train_test_pred = clf.predict(X_train_test)\n",
    "print(Y_train_test_pred)"
   ]
  },
  {
   "cell_type": "code",
   "execution_count": 33,
   "metadata": {},
   "outputs": [
    {
     "name": "stdout",
     "output_type": "stream",
     "text": [
      "[2 2 2 ... 2 2 2]\n"
     ]
    }
   ],
   "source": [
    "#Test data prediction\n",
    "Y_test_pred = clf.predict(X_test)\n",
    "print(Y_test_pred)"
   ]
  },
  {
   "cell_type": "markdown",
   "metadata": {},
   "source": [
    "#### Train data results:"
   ]
  },
  {
   "cell_type": "code",
   "execution_count": 34,
   "metadata": {},
   "outputs": [
    {
     "name": "stdout",
     "output_type": "stream",
     "text": [
      "              precision    recall  f1-score   support\n",
      "\n",
      "           0       0.00      0.00      0.00      5658\n",
      "           1       0.00      0.00      0.00     21818\n",
      "           2       0.51      1.00      0.68     63665\n",
      "           3       0.00      0.00      0.00     26342\n",
      "           4       0.00      0.00      0.00      7365\n",
      "\n",
      "    accuracy                           0.51    124848\n",
      "   macro avg       0.10      0.20      0.14    124848\n",
      "weighted avg       0.26      0.51      0.34    124848\n",
      "\n",
      "Confusion matrix:\n",
      "AxesSubplot(0.125,0.125;0.62x0.755)\n"
     ]
    },
    {
     "data": {
      "image/png": "[encoded data removed]",
      "text/plain": [
       "<Figure size 432x288 with 2 Axes>"
      ]
     },
     "metadata": {
      "needs_background": "light"
     },
     "output_type": "display_data"
    }
   ],
   "source": [
    "warnings.filterwarnings(\"ignore\")\n",
    "print(classification_report(Y_train, Y_train_pred))\n",
    "print(\"Confusion matrix:\")\n",
    "print(sns.heatmap(confusion_matrix(Y_train, Y_train_pred), cmap=\"PuRd\"))\n",
    "warnings.filterwarnings(\"ignore\")"
   ]
  },
  {
   "cell_type": "markdown",
   "metadata": {},
   "source": [
    "#### Train_test data results:"
   ]
  },
  {
   "cell_type": "code",
   "execution_count": 35,
   "metadata": {},
   "outputs": [
    {
     "name": "stdout",
     "output_type": "stream",
     "text": [
      "              precision    recall  f1-score   support\n",
      "\n",
      "           0       0.00      0.00      0.00      1414\n",
      "           1       0.00      0.00      0.00      5455\n",
      "           2       0.51      1.00      0.68     15917\n",
      "           3       0.00      0.00      0.00      6585\n",
      "           4       0.00      0.00      0.00      1841\n",
      "\n",
      "    accuracy                           0.51     31212\n",
      "   macro avg       0.10      0.20      0.14     31212\n",
      "weighted avg       0.26      0.51      0.34     31212\n",
      "\n",
      "Confusion matrix:\n",
      "AxesSubplot(0.125,0.125;0.62x0.755)\n"
     ]
    },
    {
     "data": {
      "image/png": "[encoded data removed]",
      "text/plain": [
       "<Figure size 432x288 with 2 Axes>"
      ]
     },
     "metadata": {
      "needs_background": "light"
     },
     "output_type": "display_data"
    }
   ],
   "source": [
    "print(classification_report(Y_train_test, Y_train_test_pred))\n",
    "print(\"Confusion matrix:\")\n",
    "print(sns.heatmap(confusion_matrix(Y_train_test, Y_train_test_pred), cmap=\"PuRd\"))"
   ]
  },
  {
   "cell_type": "markdown",
   "metadata": {},
   "source": [
    "### b. Sklearn classifier"
   ]
  },
  {
   "cell_type": "code",
   "execution_count": 36,
   "metadata": {},
   "outputs": [],
   "source": [
    "svc = LinearSVC().fit(X_train, Y_train)"
   ]
  },
  {
   "cell_type": "code",
   "execution_count": 37,
   "metadata": {},
   "outputs": [
    {
     "data": {
      "text/plain": [
       "array([2, 3, 2, ..., 2, 2, 2], dtype=int64)"
      ]
     },
     "execution_count": 37,
     "metadata": {},
     "output_type": "execute_result"
    }
   ],
   "source": [
    "Y_train_pred = svc.predict(X_train)\n",
    "Y_train_pred"
   ]
  },
  {
   "cell_type": "code",
   "execution_count": 38,
   "metadata": {},
   "outputs": [
    {
     "data": {
      "text/plain": [
       "array([2, 2, 3, ..., 2, 2, 2], dtype=int64)"
      ]
     },
     "execution_count": 38,
     "metadata": {},
     "output_type": "execute_result"
    }
   ],
   "source": [
    "Y_train_test_pred = svc.predict(X_train_test)\n",
    "Y_train_test_pred"
   ]
  },
  {
   "cell_type": "markdown",
   "metadata": {},
   "source": [
    "##### Train data results:"
   ]
  },
  {
   "cell_type": "code",
   "execution_count": 39,
   "metadata": {},
   "outputs": [
    {
     "name": "stdout",
     "output_type": "stream",
     "text": [
      "              precision    recall  f1-score   support\n",
      "\n",
      "           0       0.00      0.00      0.00      5658\n",
      "           1       0.35      0.03      0.05     21818\n",
      "           2       0.53      0.97      0.69     63665\n",
      "           3       0.39      0.10      0.16     26342\n",
      "           4       1.00      0.00      0.00      7365\n",
      "\n",
      "    accuracy                           0.52    124848\n",
      "   macro avg       0.46      0.22      0.18    124848\n",
      "weighted avg       0.47      0.52      0.39    124848\n",
      "\n",
      "Confusion matrix:\n",
      "AxesSubplot(0.125,0.125;0.62x0.755)\n"
     ]
    },
    {
     "data": {
      "image/png": "[encoded data removed]",
      "text/plain": [
       "<Figure size 432x288 with 2 Axes>"
      ]
     },
     "metadata": {
      "needs_background": "light"
     },
     "output_type": "display_data"
    }
   ],
   "source": [
    "print(classification_report(Y_train, Y_train_pred))\n",
    "print(\"Confusion matrix:\")\n",
    "print(sns.heatmap(confusion_matrix(Y_train, Y_train_pred), cmap=\"PuRd\"))"
   ]
  },
  {
   "cell_type": "markdown",
   "metadata": {},
   "source": [
    "#### Train_test data results:"
   ]
  },
  {
   "cell_type": "code",
   "execution_count": 40,
   "metadata": {},
   "outputs": [
    {
     "name": "stdout",
     "output_type": "stream",
     "text": [
      "              precision    recall  f1-score   support\n",
      "\n",
      "           0       0.00      0.00      0.00      1414\n",
      "           1       0.38      0.03      0.05      5455\n",
      "           2       0.53      0.97      0.68     15917\n",
      "           3       0.38      0.10      0.16      6585\n",
      "           4       1.00      0.00      0.00      1841\n",
      "\n",
      "    accuracy                           0.52     31212\n",
      "   macro avg       0.46      0.22      0.18     31212\n",
      "weighted avg       0.47      0.52      0.39     31212\n",
      "\n",
      "Confusion matrix:\n",
      "AxesSubplot(0.125,0.125;0.62x0.755)\n"
     ]
    },
    {
     "data": {
      "image/png": "[encoded data removed]",
      "text/plain": [
       "<Figure size 432x288 with 2 Axes>"
      ]
     },
     "metadata": {
      "needs_background": "light"
     },
     "output_type": "display_data"
    }
   ],
   "source": [
    "print(classification_report(Y_train_test, Y_train_test_pred))\n",
    "print(\"Confusion matrix:\")\n",
    "print(sns.heatmap(confusion_matrix(Y_train_test, Y_train_test_pred), cmap=\"PuRd\"))"
   ]
  },
  {
   "cell_type": "markdown",
   "metadata": {},
   "source": [
    "### c. Hyperparameter selection"
   ]
  },
  {
   "cell_type": "code",
   "execution_count": 41,
   "metadata": {},
   "outputs": [],
   "source": [
    "X_train3 = df_train.drop(columns = ['Sentiment'])\n",
    "Y_train3 = df_train.drop(columns = ['Phrase'])"
   ]
  },
  {
   "cell_type": "code",
   "execution_count": 42,
   "metadata": {},
   "outputs": [],
   "source": [
    "#new pipeline\n",
    "pipeline = Pipeline(steps=[(\"preprocessor\", preprocessor), ('classifier', LinearSVC())])"
   ]
  },
  {
   "cell_type": "code",
   "execution_count": 43,
   "metadata": {},
   "outputs": [
    {
     "data": {
      "text/plain": [
       "Pipeline(memory=None,\n",
       "         steps=[('preprocessor',\n",
       "                 ColumnTransformer(n_jobs=None, remainder='drop',\n",
       "                                   sparse_threshold=0.3,\n",
       "                                   transformer_weights=None,\n",
       "                                   transformers=[('cat',\n",
       "                                                  Pipeline(memory=None,\n",
       "                                                           steps=[('tfidf',\n",
       "                                                                   TfidfVectorizer(analyzer='word',\n",
       "                                                                                   binary=False,\n",
       "                                                                                   decode_error='strict',\n",
       "                                                                                   dtype=<class 'numpy.float64'>,\n",
       "                                                                                   encoding='utf-8',\n",
       "                                                                                   input='content',\n",
       "                                                                                   lowercase=True,\n",
       "                                                                                   max_df=1.0,...\n",
       "                                                                                   sublinear_tf=False,\n",
       "                                                                                   token_pattern='(?u)\\\\b\\\\w\\\\w+\\\\b',\n",
       "                                                                                   tokenizer=None,\n",
       "                                                                                   use_idf=True,\n",
       "                                                                                   vocabulary=None))],\n",
       "                                                           verbose=False),\n",
       "                                                  'Phrase')],\n",
       "                                   verbose=False)),\n",
       "                ('classifier',\n",
       "                 LinearSVC(C=1.0, class_weight=None, dual=True,\n",
       "                           fit_intercept=True, intercept_scaling=1,\n",
       "                           loss='squared_hinge', max_iter=1000,\n",
       "                           multi_class='ovr', penalty='l2', random_state=None,\n",
       "                           tol=0.0001, verbose=0))],\n",
       "         verbose=False)"
      ]
     },
     "execution_count": 43,
     "metadata": {},
     "output_type": "execute_result"
    }
   ],
   "source": [
    "pipeline.fit(X_train3, Y_train3)"
   ]
  },
  {
   "cell_type": "code",
   "execution_count": 44,
   "metadata": {},
   "outputs": [],
   "source": [
    "Y_train_pred = pipeline.predict(X_train3)"
   ]
  },
  {
   "cell_type": "code",
   "execution_count": 45,
   "metadata": {},
   "outputs": [
    {
     "name": "stdout",
     "output_type": "stream",
     "text": [
      "              precision    recall  f1-score   support\n",
      "\n",
      "           0       0.65      0.35      0.45      7072\n",
      "           1       0.61      0.49      0.54     27273\n",
      "           2       0.72      0.88      0.79     79582\n",
      "           3       0.61      0.53      0.57     32927\n",
      "           4       0.67      0.36      0.47      9206\n",
      "\n",
      "    accuracy                           0.68    156060\n",
      "   macro avg       0.65      0.52      0.57    156060\n",
      "weighted avg       0.67      0.68      0.67    156060\n",
      "\n",
      "Confusion matrix:\n",
      "AxesSubplot(0.125,0.125;0.62x0.755)\n"
     ]
    },
    {
     "data": {
      "image/png": "[encoded data removed]",
      "text/plain": [
       "<Figure size 432x288 with 2 Axes>"
      ]
     },
     "metadata": {
      "needs_background": "light"
     },
     "output_type": "display_data"
    }
   ],
   "source": [
    "print(classification_report(Y_train3, Y_train_pred))\n",
    "print(\"Confusion matrix:\")\n",
    "print(sns.heatmap(confusion_matrix(Y_train3, Y_train_pred), cmap=\"PuRd\"))"
   ]
  },
  {
   "cell_type": "code",
   "execution_count": 46,
   "metadata": {},
   "outputs": [
    {
     "name": "stdout",
     "output_type": "stream",
     "text": [
      "Best parameter (CV score=0.523):\n",
      "{'hidden_layer_sizes': (50,), 'learning_rate_init': 0.01, 'max_iter': 100, 'random_state': 42, 'solver': 'adam'}\n"
     ]
    }
   ],
   "source": [
    "#Serch Grid for Best Parameters\n",
    "# Possible parameters:\n",
    "param_grid = {\n",
    "    'solver': ['adam'],\n",
    "    'max_iter': [100, 50],\n",
    "    'learning_rate_init': [0.1, 0.01],\n",
    "    'hidden_layer_sizes': [(100,), (50,)],\n",
    "    'random_state': [42]\n",
    "}\n",
    "\n",
    "search = GridSearchCV(MLPClassifier(), param_grid, n_jobs=-1)\n",
    "\n",
    "search.fit(X_train, Y_train)\n",
    "\n",
    "print(\"Best parameter (CV score=%0.3f):\" % search.best_score_)\n",
    "print(search.best_params_)\n",
    "warnings.filterwarnings(\"ignore\")"
   ]
  },
  {
   "cell_type": "code",
   "execution_count": 48,
   "metadata": {},
   "outputs": [
    {
     "data": {
      "text/plain": [
       "0.5208253235934897"
      ]
     },
     "execution_count": 48,
     "metadata": {},
     "output_type": "execute_result"
    }
   ],
   "source": [
    "accuracy_score(Y_train_test, search.predict(X_train_test))"
   ]
  }
 ],
 "metadata": {
  "kernelspec": {
   "display_name": "Python 3",
   "language": "python",
   "name": "python3"
  },
  "language_info": {
   "codemirror_mode": {
    "name": "ipython",
    "version": 3
   },
   "file_extension": ".py",
   "mimetype": "text/x-python",
   "name": "python",
   "nbconvert_exporter": "python",
   "pygments_lexer": "ipython3",
   "version": "3.7.0"
  }
 },
 "nbformat": 4,
 "nbformat_minor": 4
}
